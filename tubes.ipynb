{
 "cells": [
  {
   "cell_type": "markdown",
   "metadata": {},
   "source": [
    "# Tugas Besar IF2220 Probabilitas dan Statistika\n",
    "## Penarikan Kesimpulan dan Pengujian Hipotesis"
   ]
  },
  {
   "cell_type": "markdown",
   "metadata": {},
   "source": [
    "Dibuat oleh: \n",
    "* Rayhan Alghifari Fauzta (13519039)\n",
    "* Kinantan Arya Bagaspati (13519044)"
   ]
  },
  {
   "cell_type": "markdown",
   "metadata": {},
   "source": [
    "## Persiapan"
   ]
  },
  {
   "cell_type": "markdown",
   "metadata": {},
   "source": [
    "Pertama-tama, data dari file CSV dimuat menggunakan pandas. Load CSV disertai argumen ```names``` untuk memberikan nama ke masing-masing kolom sesuai spesifikasi."
   ]
  },
  {
   "cell_type": "code",
   "execution_count": 2,
   "metadata": {},
   "outputs": [
    {
     "data": {
      "text/html": [
       "<div>\n",
       "<style scoped>\n",
       "    .dataframe tbody tr th:only-of-type {\n",
       "        vertical-align: middle;\n",
       "    }\n",
       "\n",
       "    .dataframe tbody tr th {\n",
       "        vertical-align: top;\n",
       "    }\n",
       "\n",
       "    .dataframe thead th {\n",
       "        text-align: right;\n",
       "    }\n",
       "</style>\n",
       "<table border=\"1\" class=\"dataframe\">\n",
       "  <thead>\n",
       "    <tr style=\"text-align: right;\">\n",
       "      <th></th>\n",
       "      <th>id</th>\n",
       "      <th>Daerah</th>\n",
       "      <th>SumbuUtama</th>\n",
       "      <th>SumbuKecil</th>\n",
       "      <th>Keunikan</th>\n",
       "      <th>AreaBulatan</th>\n",
       "      <th>Diameter</th>\n",
       "      <th>KadarAir</th>\n",
       "      <th>Keliling</th>\n",
       "      <th>Bulatan</th>\n",
       "      <th>Ransum</th>\n",
       "      <th>Kelas</th>\n",
       "    </tr>\n",
       "  </thead>\n",
       "  <tbody>\n",
       "    <tr>\n",
       "      <th>0</th>\n",
       "      <td>1</td>\n",
       "      <td>5781</td>\n",
       "      <td>128.288875</td>\n",
       "      <td>58.470846</td>\n",
       "      <td>0.890095</td>\n",
       "      <td>5954</td>\n",
       "      <td>85.793926</td>\n",
       "      <td>0.674090</td>\n",
       "      <td>316.756</td>\n",
       "      <td>0.724041</td>\n",
       "      <td>2.194066</td>\n",
       "      <td>1</td>\n",
       "    </tr>\n",
       "    <tr>\n",
       "      <th>1</th>\n",
       "      <td>2</td>\n",
       "      <td>4176</td>\n",
       "      <td>109.348294</td>\n",
       "      <td>49.837688</td>\n",
       "      <td>0.890098</td>\n",
       "      <td>4277</td>\n",
       "      <td>72.918093</td>\n",
       "      <td>0.596231</td>\n",
       "      <td>260.346</td>\n",
       "      <td>0.774227</td>\n",
       "      <td>2.194088</td>\n",
       "      <td>1</td>\n",
       "    </tr>\n",
       "    <tr>\n",
       "      <th>2</th>\n",
       "      <td>3</td>\n",
       "      <td>4555</td>\n",
       "      <td>114.427991</td>\n",
       "      <td>52.151207</td>\n",
       "      <td>0.890105</td>\n",
       "      <td>4706</td>\n",
       "      <td>76.155145</td>\n",
       "      <td>0.776641</td>\n",
       "      <td>279.606</td>\n",
       "      <td>0.732159</td>\n",
       "      <td>2.194158</td>\n",
       "      <td>1</td>\n",
       "    </tr>\n",
       "    <tr>\n",
       "      <th>3</th>\n",
       "      <td>4</td>\n",
       "      <td>4141</td>\n",
       "      <td>108.701191</td>\n",
       "      <td>49.457349</td>\n",
       "      <td>0.890499</td>\n",
       "      <td>4236</td>\n",
       "      <td>72.611879</td>\n",
       "      <td>0.633180</td>\n",
       "      <td>260.478</td>\n",
       "      <td>0.766960</td>\n",
       "      <td>2.197877</td>\n",
       "      <td>1</td>\n",
       "    </tr>\n",
       "    <tr>\n",
       "      <th>4</th>\n",
       "      <td>5</td>\n",
       "      <td>5273</td>\n",
       "      <td>122.747869</td>\n",
       "      <td>55.757848</td>\n",
       "      <td>0.890876</td>\n",
       "      <td>5431</td>\n",
       "      <td>81.937733</td>\n",
       "      <td>0.669842</td>\n",
       "      <td>302.730</td>\n",
       "      <td>0.723031</td>\n",
       "      <td>2.201446</td>\n",
       "      <td>1</td>\n",
       "    </tr>\n",
       "    <tr>\n",
       "      <th>...</th>\n",
       "      <td>...</td>\n",
       "      <td>...</td>\n",
       "      <td>...</td>\n",
       "      <td>...</td>\n",
       "      <td>...</td>\n",
       "      <td>...</td>\n",
       "      <td>...</td>\n",
       "      <td>...</td>\n",
       "      <td>...</td>\n",
       "      <td>...</td>\n",
       "      <td>...</td>\n",
       "      <td>...</td>\n",
       "    </tr>\n",
       "    <tr>\n",
       "      <th>495</th>\n",
       "      <td>496</td>\n",
       "      <td>5083</td>\n",
       "      <td>120.083450</td>\n",
       "      <td>54.821580</td>\n",
       "      <td>0.889709</td>\n",
       "      <td>5179</td>\n",
       "      <td>80.447975</td>\n",
       "      <td>0.534827</td>\n",
       "      <td>286.377</td>\n",
       "      <td>0.778850</td>\n",
       "      <td>2.190441</td>\n",
       "      <td>2</td>\n",
       "    </tr>\n",
       "    <tr>\n",
       "      <th>496</th>\n",
       "      <td>497</td>\n",
       "      <td>4432</td>\n",
       "      <td>112.367050</td>\n",
       "      <td>51.294914</td>\n",
       "      <td>0.889726</td>\n",
       "      <td>4550</td>\n",
       "      <td>75.119889</td>\n",
       "      <td>0.601194</td>\n",
       "      <td>270.823</td>\n",
       "      <td>0.759344</td>\n",
       "      <td>2.190608</td>\n",
       "      <td>2</td>\n",
       "    </tr>\n",
       "    <tr>\n",
       "      <th>497</th>\n",
       "      <td>498</td>\n",
       "      <td>5020</td>\n",
       "      <td>119.873742</td>\n",
       "      <td>54.718545</td>\n",
       "      <td>0.889740</td>\n",
       "      <td>5104</td>\n",
       "      <td>79.947874</td>\n",
       "      <td>0.528421</td>\n",
       "      <td>285.799</td>\n",
       "      <td>0.772311</td>\n",
       "      <td>2.190733</td>\n",
       "      <td>2</td>\n",
       "    </tr>\n",
       "    <tr>\n",
       "      <th>498</th>\n",
       "      <td>499</td>\n",
       "      <td>4035</td>\n",
       "      <td>107.311728</td>\n",
       "      <td>48.930802</td>\n",
       "      <td>0.889996</td>\n",
       "      <td>4150</td>\n",
       "      <td>71.676506</td>\n",
       "      <td>0.584698</td>\n",
       "      <td>258.503</td>\n",
       "      <td>0.758791</td>\n",
       "      <td>2.193132</td>\n",
       "      <td>2</td>\n",
       "    </tr>\n",
       "    <tr>\n",
       "      <th>499</th>\n",
       "      <td>500</td>\n",
       "      <td>3379</td>\n",
       "      <td>99.014789</td>\n",
       "      <td>44.631551</td>\n",
       "      <td>0.892647</td>\n",
       "      <td>3491</td>\n",
       "      <td>65.591741</td>\n",
       "      <td>0.653578</td>\n",
       "      <td>237.593</td>\n",
       "      <td>0.752196</td>\n",
       "      <td>2.218493</td>\n",
       "      <td>2</td>\n",
       "    </tr>\n",
       "  </tbody>\n",
       "</table>\n",
       "<p>500 rows × 12 columns</p>\n",
       "</div>"
      ],
      "text/plain": [
       "      id  Daerah  SumbuUtama  SumbuKecil  Keunikan  AreaBulatan   Diameter  \\\n",
       "0      1    5781  128.288875   58.470846  0.890095         5954  85.793926   \n",
       "1      2    4176  109.348294   49.837688  0.890098         4277  72.918093   \n",
       "2      3    4555  114.427991   52.151207  0.890105         4706  76.155145   \n",
       "3      4    4141  108.701191   49.457349  0.890499         4236  72.611879   \n",
       "4      5    5273  122.747869   55.757848  0.890876         5431  81.937733   \n",
       "..   ...     ...         ...         ...       ...          ...        ...   \n",
       "495  496    5083  120.083450   54.821580  0.889709         5179  80.447975   \n",
       "496  497    4432  112.367050   51.294914  0.889726         4550  75.119889   \n",
       "497  498    5020  119.873742   54.718545  0.889740         5104  79.947874   \n",
       "498  499    4035  107.311728   48.930802  0.889996         4150  71.676506   \n",
       "499  500    3379   99.014789   44.631551  0.892647         3491  65.591741   \n",
       "\n",
       "     KadarAir  Keliling   Bulatan    Ransum  Kelas  \n",
       "0    0.674090   316.756  0.724041  2.194066      1  \n",
       "1    0.596231   260.346  0.774227  2.194088      1  \n",
       "2    0.776641   279.606  0.732159  2.194158      1  \n",
       "3    0.633180   260.478  0.766960  2.197877      1  \n",
       "4    0.669842   302.730  0.723031  2.201446      1  \n",
       "..        ...       ...       ...       ...    ...  \n",
       "495  0.534827   286.377  0.778850  2.190441      2  \n",
       "496  0.601194   270.823  0.759344  2.190608      2  \n",
       "497  0.528421   285.799  0.772311  2.190733      2  \n",
       "498  0.584698   258.503  0.758791  2.193132      2  \n",
       "499  0.653578   237.593  0.752196  2.218493      2  \n",
       "\n",
       "[500 rows x 12 columns]"
      ]
     },
     "execution_count": 2,
     "metadata": {},
     "output_type": "execute_result"
    }
   ],
   "source": [
    "%matplotlib inline\n",
    "import pandas as pd\n",
    "import numpy as np\n",
    "import matplotlib.pyplot as plt\n",
    "import seaborn as sns\n",
    "\n",
    "df = pd.read_csv(\"Gandum.csv\", names=[\"id\", \"Daerah\", \"SumbuUtama\", \"SumbuKecil\", \"Keunikan\", \"AreaBulatan\", \"Diameter\", \"KadarAir\", \"Keliling\", \"Bulatan\", \"Ransum\", \"Kelas\"])\n",
    "df"
   ]
  },
  {
   "cell_type": "markdown",
   "metadata": {},
   "source": [
    "Terdapat 500 baris dan 12 kolom pada dataset.\n",
    "\n",
    "Selanjutnya, tipe data masing-masing kolom akan dicek untuk menentukan kolom mana saja yang numerik."
   ]
  },
  {
   "cell_type": "code",
   "execution_count": 3,
   "metadata": {},
   "outputs": [
    {
     "data": {
      "text/plain": [
       "id               int64\n",
       "Daerah           int64\n",
       "SumbuUtama     float64\n",
       "SumbuKecil     float64\n",
       "Keunikan       float64\n",
       "AreaBulatan      int64\n",
       "Diameter       float64\n",
       "KadarAir       float64\n",
       "Keliling       float64\n",
       "Bulatan        float64\n",
       "Ransum         float64\n",
       "Kelas            int64\n",
       "dtype: object"
      ]
     },
     "execution_count": 3,
     "metadata": {},
     "output_type": "execute_result"
    }
   ],
   "source": [
    "df.dtypes"
   ]
  },
  {
   "cell_type": "markdown",
   "metadata": {},
   "source": [
    "Diketahui tipe data seluruh kolom adalah numerik (int64 atau float64). Oleh karena itu, dapat dilakukan deskripsi statistika di seluruh kolom data.\n",
    "\n",
    "Sebelum ke deskripsi, akan dicek terlebih dahulu keberadaan missing values (NaN) pada data."
   ]
  },
  {
   "cell_type": "code",
   "execution_count": 4,
   "metadata": {},
   "outputs": [
    {
     "data": {
      "text/plain": [
       "id             0\n",
       "Daerah         0\n",
       "SumbuUtama     0\n",
       "SumbuKecil     0\n",
       "Keunikan       0\n",
       "AreaBulatan    0\n",
       "Diameter       0\n",
       "KadarAir       0\n",
       "Keliling       0\n",
       "Bulatan        0\n",
       "Ransum         0\n",
       "Kelas          0\n",
       "dtype: int64"
      ]
     },
     "execution_count": 4,
     "metadata": {},
     "output_type": "execute_result"
    }
   ],
   "source": [
    "df.isnull().sum()"
   ]
  },
  {
   "cell_type": "markdown",
   "metadata": {},
   "source": [
    "Tidak terdapat missing values pada data. Oleh karena itu tidak perlu dilakukan penanganan khusus bagi data NaN."
   ]
  },
  {
   "cell_type": "markdown",
   "metadata": {},
   "source": [
    "# Nomor 1"
   ]
  },
  {
   "cell_type": "markdown",
   "metadata": {},
   "source": [
    "Menulis deskripsi statistika dari semua kolom pada data yang bersifat numerik, terdiri dari mean, median, modus, standar deviasi, variansi, range, nilai minimum, maksimum, kuartil, IQR, skewness dan kurtosis."
   ]
  },
  {
   "cell_type": "markdown",
   "metadata": {},
   "source": [
    "Gambaran umum data dapat dicari dengan method ```describe```"
   ]
  },
  {
   "cell_type": "code",
   "execution_count": 5,
   "metadata": {},
   "outputs": [
    {
     "data": {
      "text/html": [
       "<div>\n",
       "<style scoped>\n",
       "    .dataframe tbody tr th:only-of-type {\n",
       "        vertical-align: middle;\n",
       "    }\n",
       "\n",
       "    .dataframe tbody tr th {\n",
       "        vertical-align: top;\n",
       "    }\n",
       "\n",
       "    .dataframe thead th {\n",
       "        text-align: right;\n",
       "    }\n",
       "</style>\n",
       "<table border=\"1\" class=\"dataframe\">\n",
       "  <thead>\n",
       "    <tr style=\"text-align: right;\">\n",
       "      <th></th>\n",
       "      <th>id</th>\n",
       "      <th>Daerah</th>\n",
       "      <th>SumbuUtama</th>\n",
       "      <th>SumbuKecil</th>\n",
       "      <th>Keunikan</th>\n",
       "      <th>AreaBulatan</th>\n",
       "      <th>Diameter</th>\n",
       "      <th>KadarAir</th>\n",
       "      <th>Keliling</th>\n",
       "      <th>Bulatan</th>\n",
       "      <th>Ransum</th>\n",
       "      <th>Kelas</th>\n",
       "    </tr>\n",
       "  </thead>\n",
       "  <tbody>\n",
       "    <tr>\n",
       "      <th>count</th>\n",
       "      <td>500.000000</td>\n",
       "      <td>500.000000</td>\n",
       "      <td>500.000000</td>\n",
       "      <td>500.000000</td>\n",
       "      <td>500.000000</td>\n",
       "      <td>500.000000</td>\n",
       "      <td>500.000000</td>\n",
       "      <td>500.000000</td>\n",
       "      <td>500.000000</td>\n",
       "      <td>500.000000</td>\n",
       "      <td>500.000000</td>\n",
       "      <td>500.000000</td>\n",
       "    </tr>\n",
       "    <tr>\n",
       "      <th>mean</th>\n",
       "      <td>250.500000</td>\n",
       "      <td>4801.246000</td>\n",
       "      <td>116.045171</td>\n",
       "      <td>53.715246</td>\n",
       "      <td>0.878764</td>\n",
       "      <td>4937.048000</td>\n",
       "      <td>77.771158</td>\n",
       "      <td>0.648372</td>\n",
       "      <td>281.479722</td>\n",
       "      <td>0.761737</td>\n",
       "      <td>2.150915</td>\n",
       "      <td>1.502000</td>\n",
       "    </tr>\n",
       "    <tr>\n",
       "      <th>std</th>\n",
       "      <td>144.481833</td>\n",
       "      <td>986.395491</td>\n",
       "      <td>18.282626</td>\n",
       "      <td>4.071075</td>\n",
       "      <td>0.036586</td>\n",
       "      <td>1011.696255</td>\n",
       "      <td>8.056867</td>\n",
       "      <td>0.094367</td>\n",
       "      <td>37.335402</td>\n",
       "      <td>0.061702</td>\n",
       "      <td>0.249767</td>\n",
       "      <td>0.500497</td>\n",
       "    </tr>\n",
       "    <tr>\n",
       "      <th>min</th>\n",
       "      <td>1.000000</td>\n",
       "      <td>2522.000000</td>\n",
       "      <td>74.133114</td>\n",
       "      <td>39.906517</td>\n",
       "      <td>0.719916</td>\n",
       "      <td>2579.000000</td>\n",
       "      <td>56.666658</td>\n",
       "      <td>0.409927</td>\n",
       "      <td>197.015000</td>\n",
       "      <td>0.174590</td>\n",
       "      <td>1.440796</td>\n",
       "      <td>1.000000</td>\n",
       "    </tr>\n",
       "    <tr>\n",
       "      <th>25%</th>\n",
       "      <td>125.750000</td>\n",
       "      <td>4042.750000</td>\n",
       "      <td>104.116098</td>\n",
       "      <td>51.193576</td>\n",
       "      <td>0.863676</td>\n",
       "      <td>4170.250000</td>\n",
       "      <td>71.745308</td>\n",
       "      <td>0.572632</td>\n",
       "      <td>255.883000</td>\n",
       "      <td>0.731991</td>\n",
       "      <td>1.983939</td>\n",
       "      <td>1.000000</td>\n",
       "    </tr>\n",
       "    <tr>\n",
       "      <th>50%</th>\n",
       "      <td>250.500000</td>\n",
       "      <td>4735.000000</td>\n",
       "      <td>115.405140</td>\n",
       "      <td>53.731199</td>\n",
       "      <td>0.890045</td>\n",
       "      <td>4857.000000</td>\n",
       "      <td>77.645277</td>\n",
       "      <td>0.626117</td>\n",
       "      <td>280.045500</td>\n",
       "      <td>0.761288</td>\n",
       "      <td>2.193599</td>\n",
       "      <td>2.000000</td>\n",
       "    </tr>\n",
       "    <tr>\n",
       "      <th>75%</th>\n",
       "      <td>375.250000</td>\n",
       "      <td>5495.500000</td>\n",
       "      <td>129.046792</td>\n",
       "      <td>56.325158</td>\n",
       "      <td>0.907578</td>\n",
       "      <td>5654.250000</td>\n",
       "      <td>83.648598</td>\n",
       "      <td>0.726633</td>\n",
       "      <td>306.062500</td>\n",
       "      <td>0.796361</td>\n",
       "      <td>2.381612</td>\n",
       "      <td>2.000000</td>\n",
       "    </tr>\n",
       "    <tr>\n",
       "      <th>max</th>\n",
       "      <td>500.000000</td>\n",
       "      <td>7453.000000</td>\n",
       "      <td>227.928583</td>\n",
       "      <td>68.977700</td>\n",
       "      <td>0.914001</td>\n",
       "      <td>7720.000000</td>\n",
       "      <td>97.413830</td>\n",
       "      <td>0.878899</td>\n",
       "      <td>488.837000</td>\n",
       "      <td>0.904748</td>\n",
       "      <td>2.464809</td>\n",
       "      <td>2.000000</td>\n",
       "    </tr>\n",
       "  </tbody>\n",
       "</table>\n",
       "</div>"
      ],
      "text/plain": [
       "               id       Daerah  SumbuUtama  SumbuKecil    Keunikan  \\\n",
       "count  500.000000   500.000000  500.000000  500.000000  500.000000   \n",
       "mean   250.500000  4801.246000  116.045171   53.715246    0.878764   \n",
       "std    144.481833   986.395491   18.282626    4.071075    0.036586   \n",
       "min      1.000000  2522.000000   74.133114   39.906517    0.719916   \n",
       "25%    125.750000  4042.750000  104.116098   51.193576    0.863676   \n",
       "50%    250.500000  4735.000000  115.405140   53.731199    0.890045   \n",
       "75%    375.250000  5495.500000  129.046792   56.325158    0.907578   \n",
       "max    500.000000  7453.000000  227.928583   68.977700    0.914001   \n",
       "\n",
       "       AreaBulatan    Diameter    KadarAir    Keliling     Bulatan  \\\n",
       "count   500.000000  500.000000  500.000000  500.000000  500.000000   \n",
       "mean   4937.048000   77.771158    0.648372  281.479722    0.761737   \n",
       "std    1011.696255    8.056867    0.094367   37.335402    0.061702   \n",
       "min    2579.000000   56.666658    0.409927  197.015000    0.174590   \n",
       "25%    4170.250000   71.745308    0.572632  255.883000    0.731991   \n",
       "50%    4857.000000   77.645277    0.626117  280.045500    0.761288   \n",
       "75%    5654.250000   83.648598    0.726633  306.062500    0.796361   \n",
       "max    7720.000000   97.413830    0.878899  488.837000    0.904748   \n",
       "\n",
       "           Ransum       Kelas  \n",
       "count  500.000000  500.000000  \n",
       "mean     2.150915    1.502000  \n",
       "std      0.249767    0.500497  \n",
       "min      1.440796    1.000000  \n",
       "25%      1.983939    1.000000  \n",
       "50%      2.193599    2.000000  \n",
       "75%      2.381612    2.000000  \n",
       "max      2.464809    2.000000  "
      ]
     },
     "execution_count": 5,
     "metadata": {},
     "output_type": "execute_result"
    }
   ],
   "source": [
    "df.describe()"
   ]
  },
  {
   "cell_type": "markdown",
   "metadata": {},
   "source": [
    "Dari hasil tersebut sudah dapat terlihat beberapa statistik data seperti mean, standar deviasi, nilai minimum, nilai maksimum, dan kuartil.\n",
    "\n",
    "Berikutnya akan dilihat statistik masing-masing kolom."
   ]
  },
  {
   "cell_type": "code",
   "execution_count": 6,
   "metadata": {},
   "outputs": [],
   "source": [
    "from scipy.stats import iqr\n",
    "\n",
    "def descriptive_statistics(df):\n",
    "    print(\"Mean:\", df.mean())\n",
    "    print(\"Median:\", df.median())\n",
    "    print(\"Modus:\", df.mode(\"index\")[0])\n",
    "    print(\"Standar Deviasi:\", df.std())\n",
    "    print(\"Variansi:\", df.var())\n",
    "    print(\"Range:\", df.max()-df.min())\n",
    "    print(\"Nilai Minimum:\", df.min())\n",
    "    print(\"Nilai Maksimum:\", df.max())\n",
    "    print(\"Kuartil pertama:\", df.quantile(0.25))\n",
    "    print(\"Kuartil kedua:\", df.quantile(0.5))\n",
    "    print(\"Kuartil ketiga:\", df.quantile(0.75))\n",
    "    print(\"Interquartile Range:\", iqr(df))\n",
    "    print(\"Skewness:\", df.skew())\n",
    "    print(\"Kurtosis:\", df.kurtosis())"
   ]
  },
  {
   "cell_type": "markdown",
   "metadata": {},
   "source": [
    "### id"
   ]
  },
  {
   "cell_type": "markdown",
   "metadata": {},
   "source": [
    "Deskripsi Statistika untuk Kolom id"
   ]
  },
  {
   "cell_type": "code",
   "execution_count": 7,
   "metadata": {},
   "outputs": [
    {
     "name": "stdout",
     "output_type": "stream",
     "text": [
      "Mean: 250.5\n",
      "Median: 250.5\n",
      "Modus: 1\n",
      "Standar Deviasi: 144.4818327679989\n",
      "Variansi: 20875.0\n",
      "Range: 499\n",
      "Nilai Minimum: 1\n",
      "Nilai Maksimum: 500\n",
      "Kuartil pertama: 125.75\n",
      "Kuartil kedua: 250.5\n",
      "Kuartil ketiga: 375.25\n",
      "Interquartile Range: 249.5\n",
      "Skewness: 0.0\n",
      "Kurtosis: -1.2000000000000002\n"
     ]
    }
   ],
   "source": [
    "descriptive_statistics(df[\"id\"])"
   ]
  },
  {
   "cell_type": "markdown",
   "metadata": {},
   "source": [
    "### Daerah"
   ]
  },
  {
   "cell_type": "markdown",
   "metadata": {},
   "source": [
    "Deskripsi Statistika untuk Kolom Daerah"
   ]
  },
  {
   "cell_type": "code",
   "execution_count": 8,
   "metadata": {},
   "outputs": [
    {
     "name": "stdout",
     "output_type": "stream",
     "text": [
      "Mean: 4801.246\n",
      "Median: 4735.0\n",
      "Modus: 3992\n",
      "Standar Deviasi: 986.3954914816018\n",
      "Variansi: 972976.0656152307\n",
      "Range: 4931\n",
      "Nilai Minimum: 2522\n",
      "Nilai Maksimum: 7453\n",
      "Kuartil pertama: 4042.75\n",
      "Kuartil kedua: 4735.0\n",
      "Kuartil ketiga: 5495.5\n",
      "Interquartile Range: 1452.75\n",
      "Skewness: 0.23814408738280812\n",
      "Kurtosis: -0.4346305340273977\n"
     ]
    }
   ],
   "source": [
    "descriptive_statistics(df[\"Daerah\"])"
   ]
  },
  {
   "cell_type": "markdown",
   "metadata": {},
   "source": [
    "### SumbuUtama"
   ]
  },
  {
   "cell_type": "markdown",
   "metadata": {},
   "source": [
    "Deskripsi Statistika untuk Kolom SumbuUtama"
   ]
  },
  {
   "cell_type": "code",
   "execution_count": 9,
   "metadata": {
    "scrolled": true
   },
   "outputs": [
    {
     "name": "stdout",
     "output_type": "stream",
     "text": [
      "Mean: 116.04517136778003\n",
      "Median: 115.40513994999999\n",
      "Modus: 74.13311404\n",
      "Standar Deviasi: 18.28262595755936\n",
      "Variansi: 334.25441190402336\n",
      "Range: 153.79546865999998\n",
      "Nilai Minimum: 74.13311404\n",
      "Nilai Maksimum: 227.9285827\n",
      "Kuartil pertama: 104.11609817499999\n",
      "Kuartil kedua: 115.40513994999999\n",
      "Kuartil ketiga: 129.046792025\n",
      "Interquartile Range: 24.93069385000001\n",
      "Skewness: 0.7615287378076631\n",
      "Kurtosis: 4.330533548436968\n"
     ]
    }
   ],
   "source": [
    "descriptive_statistics(df[\"SumbuUtama\"])"
   ]
  },
  {
   "cell_type": "markdown",
   "metadata": {},
   "source": [
    "### SumbuKecil"
   ]
  },
  {
   "cell_type": "markdown",
   "metadata": {},
   "source": [
    "Deskripsi Statistika untuk Kolom SumbuKecil"
   ]
  },
  {
   "cell_type": "code",
   "execution_count": 10,
   "metadata": {},
   "outputs": [
    {
     "name": "stdout",
     "output_type": "stream",
     "text": [
      "Mean: 53.71524598896002\n",
      "Median: 53.731198774999996\n",
      "Modus: 39.90651744\n",
      "Standar Deviasi: 4.071074752475035\n",
      "Variansi: 16.573649640239662\n",
      "Range: 29.071182429999993\n",
      "Nilai Minimum: 39.90651744\n",
      "Nilai Maksimum: 68.97769987\n",
      "Kuartil pertama: 51.1935763325\n",
      "Kuartil kedua: 53.731198774999996\n",
      "Kuartil ketiga: 56.3251579825\n",
      "Interquartile Range: 5.131581650000001\n",
      "Skewness: -0.010828051555611359\n",
      "Kurtosis: 0.47556845043813656\n"
     ]
    }
   ],
   "source": [
    "descriptive_statistics(df[\"SumbuKecil\"])"
   ]
  },
  {
   "cell_type": "markdown",
   "metadata": {},
   "source": [
    "### Keunikan"
   ]
  },
  {
   "cell_type": "markdown",
   "metadata": {},
   "source": [
    "Deskripsi Statistika untuk Kolom Keunikan"
   ]
  },
  {
   "cell_type": "code",
   "execution_count": 11,
   "metadata": {},
   "outputs": [
    {
     "name": "stdout",
     "output_type": "stream",
     "text": [
      "Mean: 0.878763914340001\n",
      "Median: 0.8900454185\n",
      "Modus: 0.7199162259999999\n",
      "Standar Deviasi: 0.03658590550477702\n",
      "Variansi: 0.0013385284816044736\n",
      "Range: 0.19408517999999997\n",
      "Nilai Minimum: 0.7199162259999999\n",
      "Nilai Maksimum: 0.9140014059999999\n",
      "Kuartil pertama: 0.8636757527500001\n",
      "Kuartil kedua: 0.8900454185\n",
      "Kuartil ketiga: 0.907577917\n",
      "Interquartile Range: 0.04390216424999993\n",
      "Skewness: -1.6234718222806501\n",
      "Kurtosis: 2.917255925694389\n"
     ]
    }
   ],
   "source": [
    "descriptive_statistics(df[\"Keunikan\"])"
   ]
  },
  {
   "cell_type": "markdown",
   "metadata": {},
   "source": [
    "### AreaBulatan"
   ]
  },
  {
   "cell_type": "markdown",
   "metadata": {},
   "source": [
    "Deskripsi Statistika untuk Kolom AreaBulatan"
   ]
  },
  {
   "cell_type": "code",
   "execution_count": 12,
   "metadata": {},
   "outputs": [
    {
     "name": "stdout",
     "output_type": "stream",
     "text": [
      "Mean: 4937.048\n",
      "Median: 4857.0\n",
      "Modus: 3802\n",
      "Standar Deviasi: 1011.6962549701573\n",
      "Variansi: 1023529.3123206415\n",
      "Range: 5141\n",
      "Nilai Minimum: 2579\n",
      "Nilai Maksimum: 7720\n",
      "Kuartil pertama: 4170.25\n",
      "Kuartil kedua: 4857.0\n",
      "Kuartil ketiga: 5654.25\n",
      "Interquartile Range: 1484.0\n",
      "Skewness: 0.2575600053152032\n",
      "Kurtosis: -0.40968492037366033\n"
     ]
    }
   ],
   "source": [
    "descriptive_statistics(df[\"AreaBulatan\"])"
   ]
  },
  {
   "cell_type": "markdown",
   "metadata": {},
   "source": [
    "### Diameter"
   ]
  },
  {
   "cell_type": "markdown",
   "metadata": {},
   "source": [
    "Deskripsi Statistika untuk Kolom Diameter"
   ]
  },
  {
   "cell_type": "code",
   "execution_count": 13,
   "metadata": {},
   "outputs": [
    {
     "name": "stdout",
     "output_type": "stream",
     "text": [
      "Mean: 77.77115780832005\n",
      "Median: 77.64527658\n",
      "Modus: 71.29356396\n",
      "Standar Deviasi: 8.056867291849715\n",
      "Variansi: 64.91311055847777\n",
      "Range: 40.747172240000005\n",
      "Nilai Minimum: 56.66665803\n",
      "Nilai Maksimum: 97.41383027\n",
      "Kuartil pertama: 71.74530754749999\n",
      "Kuartil kedua: 77.64527658\n",
      "Kuartil ketiga: 83.6485975675\n",
      "Interquartile Range: 11.903290020000014\n",
      "Skewness: 0.002724966865193717\n",
      "Kurtosis: -0.4664545130312141\n"
     ]
    }
   ],
   "source": [
    "descriptive_statistics(df[\"Diameter\"])"
   ]
  },
  {
   "cell_type": "markdown",
   "metadata": {},
   "source": [
    "### KadarAir"
   ]
  },
  {
   "cell_type": "markdown",
   "metadata": {},
   "source": [
    "Deskripsi Statistika untuk Kolom KadarAir"
   ]
  },
  {
   "cell_type": "code",
   "execution_count": 14,
   "metadata": {},
   "outputs": [
    {
     "name": "stdout",
     "output_type": "stream",
     "text": [
      "Mean: 0.6483716718980002\n",
      "Median: 0.626116699\n",
      "Modus: 0.735849057\n",
      "Standar Deviasi: 0.0943670980937953\n",
      "Variansi: 0.008905149202643984\n",
      "Range: 0.46897193099999995\n",
      "Nilai Minimum: 0.409927152\n",
      "Nilai Maksimum: 0.878899083\n",
      "Kuartil pertama: 0.57263245725\n",
      "Kuartil kedua: 0.626116699\n",
      "Kuartil ketiga: 0.7266333445000001\n",
      "Interquartile Range: 0.15400088725000005\n",
      "Skewness: 0.49366131797330265\n",
      "Kurtosis: -0.7403261705867821\n"
     ]
    }
   ],
   "source": [
    "descriptive_statistics(df[\"KadarAir\"])"
   ]
  },
  {
   "cell_type": "markdown",
   "metadata": {},
   "source": [
    "### Keliling"
   ]
  },
  {
   "cell_type": "markdown",
   "metadata": {},
   "source": [
    "Deskripsi Statistika untuk Kolom Keliling"
   ]
  },
  {
   "cell_type": "code",
   "execution_count": 15,
   "metadata": {},
   "outputs": [
    {
     "name": "stdout",
     "output_type": "stream",
     "text": [
      "Mean: 281.479722\n",
      "Median: 280.04549999999995\n",
      "Modus: 197.015\n",
      "Standar Deviasi: 37.335401715143995\n",
      "Variansi: 1393.9322212311772\n",
      "Range: 291.822\n",
      "Nilai Minimum: 197.015\n",
      "Nilai Maksimum: 488.837\n",
      "Kuartil pertama: 255.88299999999998\n",
      "Kuartil kedua: 280.04549999999995\n",
      "Kuartil ketiga: 306.0625\n",
      "Interquartile Range: 50.17950000000002\n",
      "Skewness: 0.7336269072005543\n",
      "Kurtosis: 2.272684731245571\n"
     ]
    }
   ],
   "source": [
    "descriptive_statistics(df[\"Keliling\"])"
   ]
  },
  {
   "cell_type": "markdown",
   "metadata": {},
   "source": [
    "### Bulatan"
   ]
  },
  {
   "cell_type": "markdown",
   "metadata": {},
   "source": [
    "Deskripsi Statistika untuk Kolom Bulatan"
   ]
  },
  {
   "cell_type": "code",
   "execution_count": 16,
   "metadata": {},
   "outputs": [
    {
     "name": "stdout",
     "output_type": "stream",
     "text": [
      "Mean: 0.7617374363080005\n",
      "Median: 0.7612884395\n",
      "Modus: 0.174590178\n",
      "Standar Deviasi: 0.0617024607867326\n",
      "Variansi: 0.0038071936671382743\n",
      "Range: 0.7301581349999999\n",
      "Nilai Minimum: 0.174590178\n",
      "Nilai Maksimum: 0.9047483129999999\n",
      "Kuartil pertama: 0.731990728\n",
      "Kuartil kedua: 0.7612884395\n",
      "Kuartil ketiga: 0.79636096975\n",
      "Interquartile Range: 0.06437024175000006\n",
      "Skewness: -3.5992367663616407\n",
      "Kurtosis: 29.97509590463005\n"
     ]
    }
   ],
   "source": [
    "descriptive_statistics(df[\"Bulatan\"])"
   ]
  },
  {
   "cell_type": "markdown",
   "metadata": {},
   "source": [
    "### Ransum"
   ]
  },
  {
   "cell_type": "markdown",
   "metadata": {},
   "source": [
    "Deskripsi Statistika untuk Kolom Ransum"
   ]
  },
  {
   "cell_type": "code",
   "execution_count": 17,
   "metadata": {},
   "outputs": [
    {
     "name": "stdout",
     "output_type": "stream",
     "text": [
      "Mean: 2.150915331084002\n",
      "Median: 2.1935990365\n",
      "Modus: 1.440795615\n",
      "Standar Deviasi: 0.24976688927065827\n",
      "Variansi: 0.06238349897594127\n",
      "Range: 1.0240129659999997\n",
      "Nilai Minimum: 1.440795615\n",
      "Nilai Maksimum: 2.4648085809999998\n",
      "Kuartil pertama: 1.98393879075\n",
      "Kuartil kedua: 2.1935990365\n",
      "Kuartil ketiga: 2.38161221825\n",
      "Interquartile Range: 0.3976734275\n",
      "Skewness: -0.6581880925333653\n",
      "Kurtosis: -0.4286557930626156\n"
     ]
    }
   ],
   "source": [
    "descriptive_statistics(df[\"Ransum\"])"
   ]
  },
  {
   "cell_type": "markdown",
   "metadata": {},
   "source": [
    "### Kelas"
   ]
  },
  {
   "cell_type": "markdown",
   "metadata": {},
   "source": [
    "Deskripsi Statistika untuk Kolom Kelas"
   ]
  },
  {
   "cell_type": "code",
   "execution_count": 18,
   "metadata": {},
   "outputs": [
    {
     "name": "stdout",
     "output_type": "stream",
     "text": [
      "Mean: 1.502\n",
      "Median: 2.0\n",
      "Modus: 2\n",
      "Standar Deviasi: 0.5004967472301624\n",
      "Variansi: 0.25049699398797304\n",
      "Range: 1\n",
      "Nilai Minimum: 1\n",
      "Nilai Maksimum: 2\n",
      "Kuartil pertama: 1.0\n",
      "Kuartil kedua: 2.0\n",
      "Kuartil ketiga: 2.0\n",
      "Interquartile Range: 1.0\n",
      "Skewness: -0.008024156558966223\n",
      "Kurtosis: -2.007983644065181\n"
     ]
    }
   ],
   "source": [
    "descriptive_statistics(df[\"Kelas\"])"
   ]
  },
  {
   "cell_type": "markdown",
   "metadata": {},
   "source": [
    "# Nomor 2"
   ]
  },
  {
   "cell_type": "markdown",
   "metadata": {},
   "source": [
    "Membuat Visualisasi plot distribusi, dalam bentuk histogram dan boxplot untuk setiap\n",
    "kolom numerik. Berikan uraian penjelasan kondisi setiap kolom berdasarkan kedua plot\n",
    "tersebut."
   ]
  },
  {
   "cell_type": "markdown",
   "metadata": {},
   "source": [
    "### id"
   ]
  },
  {
   "cell_type": "code",
   "execution_count": 19,
   "metadata": {},
   "outputs": [
    {
     "name": "stdout",
     "output_type": "stream",
     "text": [
      "AxesSubplot(0.125,0.125;0.775x0.755)\n",
      "[[<matplotlib.axes._subplots.AxesSubplot object at 0x0000020BBEDE9C88>]]\n"
     ]
    },
    {
     "data": {
      "image/png": "[encoded data removed]",
      "text/plain": [
       "<Figure size 432x288 with 1 Axes>"
      ]
     },
     "metadata": {
      "needs_background": "light"
     },
     "output_type": "display_data"
    },
    {
     "data": {
      "image/png": "[encoded data removed]",
      "text/plain": [
       "<Figure size 432x288 with 1 Axes>"
      ]
     },
     "metadata": {
      "needs_background": "light"
     },
     "output_type": "display_data"
    }
   ],
   "source": [
    "print(df.boxplot(column = [df.columns[0]]))\n",
    "print(df.hist(column = [df.columns[0]], bins=25))"
   ]
  },
  {
   "cell_type": "markdown",
   "metadata": {},
   "source": [
    "Dilihat dari boxplot, \"minimum\", Q3, median, Q1, dan \"maximum\" memiliki 4 jarak yang sama besar.\n",
    "Sehingga data kolom \"ID\" ini uniform, dapat divisualisasikan dari histogram yang menunjukkan frekuensi sama tiap bin.\n",
    "Maka data ini memiliki skew 0, sehingga rata ratanya sama dengan median."
   ]
  },
  {
   "cell_type": "markdown",
   "metadata": {},
   "source": [
    "### Daerah"
   ]
  },
  {
   "cell_type": "code",
   "execution_count": 20,
   "metadata": {},
   "outputs": [
    {
     "name": "stdout",
     "output_type": "stream",
     "text": [
      "AxesSubplot(0.125,0.125;0.775x0.755)\n",
      "[[<matplotlib.axes._subplots.AxesSubplot object at 0x0000020BBEF5F348>]]\n"
     ]
    },
    {
     "data": {
      "image/png": "[encoded data removed]",
      "text/plain": [
       "<Figure size 432x288 with 1 Axes>"
      ]
     },
     "metadata": {
      "needs_background": "light"
     },
     "output_type": "display_data"
    },
    {
     "data": {
      "image/png": "[encoded data removed]",
      "text/plain": [
       "<Figure size 432x288 with 1 Axes>"
      ]
     },
     "metadata": {
      "needs_background": "light"
     },
     "output_type": "display_data"
    }
   ],
   "source": [
    "print(df.boxplot(column = [df.columns[1]]))\n",
    "print(df.hist(column = [df.columns[1]], bins=25))"
   ]
  },
  {
   "cell_type": "markdown",
   "metadata": {},
   "source": [
    "Dilihat dari boxplot, jangkauan antara \"minimum\" dan \"maximum\" kurang lebih sama dengan empat kali Inter Quartil Range.\n",
    "Sehingga data kolom \"Daerah\" ini mendekati distribusi normal.\n",
    "Dapat dilihat pula nilai median, ditunjukkan pada garis hijau pada boxplot, condong lebih dekat pada \"minimum\".\n",
    "Sehingga dapat disimpulkan bahwa data ini memiliki skew positif, dapat divisualisasikan pada histogram yang memiliki frekuensi data lebih berat di bagian kiri."
   ]
  },
  {
   "cell_type": "markdown",
   "metadata": {},
   "source": [
    "### Sumbu Utama"
   ]
  },
  {
   "cell_type": "code",
   "execution_count": 21,
   "metadata": {},
   "outputs": [
    {
     "name": "stdout",
     "output_type": "stream",
     "text": [
      "AxesSubplot(0.125,0.125;0.775x0.755)\n",
      "[[<matplotlib.axes._subplots.AxesSubplot object at 0x0000020BBF06D208>]]\n"
     ]
    },
    {
     "data": {
      "image/png": "[encoded data removed]",
      "text/plain": [
       "<Figure size 432x288 with 1 Axes>"
      ]
     },
     "metadata": {
      "needs_background": "light"
     },
     "output_type": "display_data"
    },
    {
     "data": {
      "image/png": "[encoded data removed]",
      "text/plain": [
       "<Figure size 432x288 with 1 Axes>"
      ]
     },
     "metadata": {
      "needs_background": "light"
     },
     "output_type": "display_data"
    }
   ],
   "source": [
    "print(df.boxplot(column = [df.columns[2]]))\n",
    "print(df.hist(column = [df.columns[2]], bins=25))"
   ]
  },
  {
   "cell_type": "markdown",
   "metadata": {},
   "source": [
    "Dilihat dari boxplot, jangkauan antara \"minimum\" dan \"maximum\" kurang lebih sama dengan empat kali Inter Quartil Range.\n",
    "Sehingga data kolom \"SumbuKecil\" ini tidak jauh dari distribusi normal.\n",
    "Data ini juga mempunyai pencilan pada kedua sisi, sesuai dengan definisi data distribusi normal yang umumnya memiliki 0.35 persen pencilan pada kedua sisi.\n",
    "Dapat disimpulkan bahwa kolom ini paling dekat dengan bentuk distribusi normal, dapat divisualisasikan dalam histogram.\n",
    "Sehingga dapat disimpulkan bahwa data ini memiliki skew mendekati 0, karena median kurang lebih berada di tengah \"minimum\" dan \"maksimum\"\n",
    "Dapat divisualisasikan pada histogram yang memiliki frekuensi data seimbang di kiri dan kanan (tidak memperhitungkan pencilan)."
   ]
  },
  {
   "cell_type": "markdown",
   "metadata": {},
   "source": [
    "### Sumbu Kecil"
   ]
  },
  {
   "cell_type": "code",
   "execution_count": 22,
   "metadata": {},
   "outputs": [
    {
     "name": "stdout",
     "output_type": "stream",
     "text": [
      "AxesSubplot(0.125,0.125;0.775x0.755)\n",
      "[[<matplotlib.axes._subplots.AxesSubplot object at 0x0000020BBF19E148>]]\n"
     ]
    },
    {
     "data": {
      "image/png": "[encoded data removed]",
      "text/plain": [
       "<Figure size 432x288 with 1 Axes>"
      ]
     },
     "metadata": {
      "needs_background": "light"
     },
     "output_type": "display_data"
    },
    {
     "data": {
      "image/png": "[encoded data removed]",
      "text/plain": [
       "<Figure size 432x288 with 1 Axes>"
      ]
     },
     "metadata": {
      "needs_background": "light"
     },
     "output_type": "display_data"
    }
   ],
   "source": [
    "print(df.boxplot(column = [df.columns[3]]))\n",
    "print(df.hist(column = [df.columns[3]], bins=25))"
   ]
  },
  {
   "cell_type": "markdown",
   "metadata": {},
   "source": [
    "Dilihat dari boxplot, jangkauan antara \"minimum\" dan \"maximum\" kurang lebih sama dengan empat kali Inter Quartil Range.\n",
    "Sehingga data kolom \"SumbuKecil\" ini tidak jauh dari distribusi normal.\n",
    "Data ini juga mempunyai pencilan pada kedua sisi, sesuai dengan definisi data distribusi normal yang umumnya memiliki 0.35 persen pencilan pada kedua sisi.\n",
    "Dapat disimpulkan bahwa kolom ini paling dekat dengan bentuk distribusi normal, dapat divisualisasikan dalam histogram.\n",
    "Sehingga dapat disimpulkan bahwa data ini memiliki skew mendekati 0, karena median kurang lebih berada di tengah \"minimum\" dan \"maksimum\"\n",
    "Dapat divisualisasikan pada histogram yang memiliki frekuensi data seimbang di kiri dan kanan (tidak memperhitungkan pencilan)."
   ]
  },
  {
   "cell_type": "markdown",
   "metadata": {},
   "source": [
    "### Keunikan"
   ]
  },
  {
   "cell_type": "code",
   "execution_count": 23,
   "metadata": {},
   "outputs": [
    {
     "name": "stdout",
     "output_type": "stream",
     "text": [
      "AxesSubplot(0.125,0.125;0.775x0.755)\n",
      "[[<matplotlib.axes._subplots.AxesSubplot object at 0x0000020BBF28A848>]]\n"
     ]
    },
    {
     "data": {
      "image/png": "[encoded data removed]",
      "text/plain": [
       "<Figure size 432x288 with 1 Axes>"
      ]
     },
     "metadata": {
      "needs_background": "light"
     },
     "output_type": "display_data"
    },
    {
     "data": {
      "image/png": "[encoded data removed]",
      "text/plain": [
       "<Figure size 432x288 with 1 Axes>"
      ]
     },
     "metadata": {
      "needs_background": "light"
     },
     "output_type": "display_data"
    }
   ],
   "source": [
    "print(df.boxplot(column = [df.columns[4]]))\n",
    "print(df.hist(column = [df.columns[4]], bins=25))"
   ]
  },
  {
   "cell_type": "markdown",
   "metadata": {},
   "source": [
    "Dilihat dari boxplot, nilai \"maximum\" data tidak sama dengan Q3 + 1.5*IQR, serta memiliki pencilan sangat banyak dibawah nilai \"minimum\".\n",
    "Data kolom \"Keunikan\" ini jauh dari distribusi normal.\n",
    "Nilai median yang jauh lebih dekat pada \"maksimum\" juga menggambarkan skew bernilai negatif dan jauh dari 0.\n",
    "Dapat divisualisasikan pada histogram yang memiliki frekuensi lebih berat pada bagian kanan."
   ]
  },
  {
   "cell_type": "markdown",
   "metadata": {},
   "source": [
    "### Area Bulatan"
   ]
  },
  {
   "cell_type": "code",
   "execution_count": 24,
   "metadata": {},
   "outputs": [
    {
     "name": "stdout",
     "output_type": "stream",
     "text": [
      "AxesSubplot(0.125,0.125;0.775x0.755)\n",
      "[[<matplotlib.axes._subplots.AxesSubplot object at 0x0000020BBF01ABC8>]]\n"
     ]
    },
    {
     "data": {
      "image/png": "[encoded data removed]",
      "text/plain": [
       "<Figure size 432x288 with 1 Axes>"
      ]
     },
     "metadata": {
      "needs_background": "light"
     },
     "output_type": "display_data"
    },
    {
     "data": {
      "image/png": "[encoded data removed]",
      "text/plain": [
       "<Figure size 432x288 with 1 Axes>"
      ]
     },
     "metadata": {
      "needs_background": "light"
     },
     "output_type": "display_data"
    }
   ],
   "source": [
    "print(df.boxplot(column = [df.columns[5]]))\n",
    "print(df.hist(column = [df.columns[5]], bins=25))"
   ]
  },
  {
   "cell_type": "markdown",
   "metadata": {},
   "source": [
    "Dilihat dari boxplot, jangkauan antara \"minimum\" dan \"maximum\" kurang lebih sama dengan empat kali Inter Quartil Range.\n",
    "Sehingga data kolom \"AreaBulatan\" ini mendekati distribusi normal.\n",
    "Dapat dilihat pula nilai median, ditunjukkan pada garis hijau pada boxplot, condong lebih dekat pada \"minimum\".\n",
    "Sehingga dapat disimpulkan bahwa data ini memiliki skew positif, \n",
    "dapat divisualisasikan pada histogram yang memiliki frekuensi data lebih berat di bagian kiri."
   ]
  },
  {
   "cell_type": "markdown",
   "metadata": {},
   "source": [
    "### Diameter"
   ]
  },
  {
   "cell_type": "code",
   "execution_count": 25,
   "metadata": {},
   "outputs": [
    {
     "name": "stdout",
     "output_type": "stream",
     "text": [
      "AxesSubplot(0.125,0.125;0.775x0.755)\n",
      "[[<matplotlib.axes._subplots.AxesSubplot object at 0x0000020BBF110788>]]\n"
     ]
    },
    {
     "data": {
      "image/png": "[encoded data removed]",
      "text/plain": [
       "<Figure size 432x288 with 1 Axes>"
      ]
     },
     "metadata": {
      "needs_background": "light"
     },
     "output_type": "display_data"
    },
    {
     "data": {
      "image/png": "[encoded data removed]",
      "text/plain": [
       "<Figure size 432x288 with 1 Axes>"
      ]
     },
     "metadata": {
      "needs_background": "light"
     },
     "output_type": "display_data"
    }
   ],
   "source": [
    "print(df.boxplot(column = [df.columns[6]]))\n",
    "print(df.hist(column = [df.columns[6]], bins=25))"
   ]
  },
  {
   "cell_type": "markdown",
   "metadata": {},
   "source": [
    "Dilihat dari boxplot, jangkauan antara \"minimum\" dan \"maximum\" kurang lebih sama dengan empat kali Inter Quartil Range.\n",
    "Sehingga data kolom \"Diameter\" ini mendekati distribusi normal.\n",
    "Dapat dilihat pula nilai median, ditunjukkan pada garis hijau pada boxplot, memiliki jarak yang sama ke \"minimum\" dan \"maksimum\"..\n",
    "Sehingga dapat disimpulkan bahwa data ini memiliki skew yang dekat dengan 0, \n",
    "dapat divisualisasikan pada histogram yang memiliki frekuensi data seimbang di bagian kiri dan kanan."
   ]
  },
  {
   "cell_type": "markdown",
   "metadata": {},
   "source": [
    "### KadarAir"
   ]
  },
  {
   "cell_type": "code",
   "execution_count": 26,
   "metadata": {},
   "outputs": [
    {
     "name": "stdout",
     "output_type": "stream",
     "text": [
      "AxesSubplot(0.125,0.125;0.775x0.755)\n",
      "[[<matplotlib.axes._subplots.AxesSubplot object at 0x0000020BBF067FC8>]]\n"
     ]
    },
    {
     "data": {
      "image/png": "[encoded data removed]",
      "text/plain": [
       "<Figure size 432x288 with 1 Axes>"
      ]
     },
     "metadata": {
      "needs_background": "light"
     },
     "output_type": "display_data"
    },
    {
     "data": {
      "image/png": "[encoded data removed]",
      "text/plain": [
       "<Figure size 432x288 with 1 Axes>"
      ]
     },
     "metadata": {
      "needs_background": "light"
     },
     "output_type": "display_data"
    }
   ],
   "source": [
    "print(df.boxplot(column = [df.columns[7]]))\n",
    "print(df.hist(column = [df.columns[7]], bins=25))"
   ]
  },
  {
   "cell_type": "markdown",
   "metadata": {},
   "source": [
    "Dilihat dari boxplot, nilai median data jauh lebih dekat pada Q1 dibanding Q3.\n",
    "Data yang terlihat terpisah pada histogram bagian kiri juga tidak dihitung sebagai pencilan karena memiliki frekuensi cukup besar.\n",
    "Data kolom \"KadarAir\" ini jauh dari distribusi normal.\n",
    "Nilai median yang jauh lebih dekat pada Q1 juga menggambarkan skew bernilai positif dan jauh dari 0.\n",
    "Dapat divisualisasikan pada histogram yang memiliki frekuensi lebih berat pada bagian kiri."
   ]
  },
  {
   "cell_type": "markdown",
   "metadata": {},
   "source": [
    "### Keliling"
   ]
  },
  {
   "cell_type": "code",
   "execution_count": 27,
   "metadata": {},
   "outputs": [
    {
     "name": "stdout",
     "output_type": "stream",
     "text": [
      "AxesSubplot(0.125,0.125;0.775x0.755)\n",
      "[[<matplotlib.axes._subplots.AxesSubplot object at 0x0000020BBF2D7708>]]\n"
     ]
    },
    {
     "data": {
      "image/png": "[encoded data removed]",
      "text/plain": [
       "<Figure size 432x288 with 1 Axes>"
      ]
     },
     "metadata": {
      "needs_background": "light"
     },
     "output_type": "display_data"
    },
    {
     "data": {
      "image/png": "[encoded data removed]",
      "text/plain": [
       "<Figure size 432x288 with 1 Axes>"
      ]
     },
     "metadata": {
      "needs_background": "light"
     },
     "output_type": "display_data"
    }
   ],
   "source": [
    "print(df.boxplot(column = [df.columns[8]]))\n",
    "print(df.hist(column = [df.columns[8]], bins=25))"
   ]
  },
  {
   "cell_type": "markdown",
   "metadata": {},
   "source": [
    "Dilihat dari boxplot, jangkauan antara \"minimum\" dan \"maximum\" kurang lebih sama dengan empat kali Inter Quartil Range.\n",
    "Sehingga data kolom \"Keliling\" ini mendekati distribusi normal.\n",
    "Data ini juga memiliki pencilan karena terdapat data bernilai di atas \"maksimum\" dengan frekuensi signifikan.\n",
    "Nilai median yang lebih dekat pada \"minimum\" juga menggambarkan skew bernilai positif.\n",
    "Dapat divisualisasikan pada histogram yang memiliki frekuensi lebih berat pada bagian kiri (tidak memperhitungkan pencilan)."
   ]
  },
  {
   "cell_type": "markdown",
   "metadata": {},
   "source": [
    "### Bulatan"
   ]
  },
  {
   "cell_type": "code",
   "execution_count": 28,
   "metadata": {},
   "outputs": [
    {
     "name": "stdout",
     "output_type": "stream",
     "text": [
      "AxesSubplot(0.125,0.125;0.775x0.755)\n",
      "[[<matplotlib.axes._subplots.AxesSubplot object at 0x0000020BBF3FB4C8>]]\n"
     ]
    },
    {
     "data": {
      "image/png": "[encoded data removed]",
      "text/plain": [
       "<Figure size 432x288 with 1 Axes>"
      ]
     },
     "metadata": {
      "needs_background": "light"
     },
     "output_type": "display_data"
    },
    {
     "data": {
      "image/png": "[encoded data removed]",
      "text/plain": [
       "<Figure size 432x288 with 1 Axes>"
      ]
     },
     "metadata": {
      "needs_background": "light"
     },
     "output_type": "display_data"
    }
   ],
   "source": [
    "print(df.boxplot(column = [df.columns[9]]))\n",
    "print(df.hist(column = [df.columns[9]], bins=25))"
   ]
  },
  {
   "cell_type": "markdown",
   "metadata": {},
   "source": [
    "Dilihat dari boxplot, jangkauan antara \"minimum\" dan \"maximum\" kurang lebih sama dengan empat kali Inter Quartil Range.\n",
    "Sehingga data kolom \"Bulatan\" ini mendekati distribusi normal.\n",
    "Data ini juga memiliki pencilan karena terdapat data di atas \"maksimum\" dan di bawah \"minimum\" dengan lebih dominan yang di bawah.\n",
    "Nilai median yang lebih dekat pada \"minimum\" juga menggambarkan skew bernilai positif.\n",
    "Dapat divisualisasikan pada histogram yang memiliki frekuensi lebih berat pada bagian kiri (tidak memperhitungkan pencilan)."
   ]
  },
  {
   "cell_type": "markdown",
   "metadata": {},
   "source": [
    "### Ransum"
   ]
  },
  {
   "cell_type": "code",
   "execution_count": 29,
   "metadata": {},
   "outputs": [
    {
     "name": "stdout",
     "output_type": "stream",
     "text": [
      "AxesSubplot(0.125,0.125;0.775x0.755)\n",
      "[[<matplotlib.axes._subplots.AxesSubplot object at 0x0000020BBF366C48>]]\n"
     ]
    },
    {
     "data": {
      "image/png": "[encoded data removed]",
      "text/plain": [
       "<Figure size 432x288 with 1 Axes>"
      ]
     },
     "metadata": {
      "needs_background": "light"
     },
     "output_type": "display_data"
    },
    {
     "data": {
      "image/png": "[encoded data removed]",
      "text/plain": [
       "<Figure size 432x288 with 1 Axes>"
      ]
     },
     "metadata": {
      "needs_background": "light"
     },
     "output_type": "display_data"
    }
   ],
   "source": [
    "print(df.boxplot(column = [df.columns[10]]))\n",
    "print(df.hist(column = [df.columns[10]], bins=25))"
   ]
  },
  {
   "cell_type": "markdown",
   "metadata": {},
   "source": [
    "Dilihat dari boxplot, nilai \"maximum\" data tidak sama dengan Q3 + 1.5*IQR, serta memiliki pencilan sangat banyak dibawah nilai \"minimum\".\n",
    "Data kolom \"Ransum\" ini jauh dari distribusi normal.\n",
    "Nilai median yang jauh lebih dekat pada \"maksimum\" juga menggambarkan skew bernilai negatif dan jauh dari 0.\n",
    "Dapat divisualisasikan pada histogram yang memiliki frekuensi lebih berat pada bagian kanan."
   ]
  },
  {
   "cell_type": "markdown",
   "metadata": {},
   "source": [
    "### Kelas"
   ]
  },
  {
   "cell_type": "code",
   "execution_count": 73,
   "metadata": {},
   "outputs": [
    {
     "name": "stdout",
     "output_type": "stream",
     "text": [
      "AxesSubplot(0.125,0.125;0.775x0.755)\n",
      "[[<matplotlib.axes._subplots.AxesSubplot object at 0x0000020BBF3746C8>]]\n"
     ]
    },
    {
     "data": {
      "image/png": "[encoded data removed]",
      "text/plain": [
       "<Figure size 432x288 with 1 Axes>"
      ]
     },
     "metadata": {
      "needs_background": "light"
     },
     "output_type": "display_data"
    },
    {
     "data": {
      "image/png": "[encoded data removed]",
      "text/plain": [
       "<Figure size 432x288 with 1 Axes>"
      ]
     },
     "metadata": {
      "needs_background": "light"
     },
     "output_type": "display_data"
    }
   ],
   "source": [
    "print(df.boxplot(column = [df.columns[11]]))\n",
    "print(df.hist(column = [df.columns[11]], bins=25))"
   ]
  },
  {
   "cell_type": "markdown",
   "metadata": {},
   "source": [
    "Kolom ini hanya memiliki nilai 1 dan 2, tepatnya 250 buah 1 dan 250 buah 2, sehingga tidak heran bahwa menghasilkan boxplot dan histogram sesuai gambar di atas"
   ]
  },
  {
   "cell_type": "markdown",
   "metadata": {},
   "source": [
    "# Nomor 3"
   ]
  },
  {
   "cell_type": "markdown",
   "metadata": {},
   "source": [
    "Menentukan setiap kolom numerik berdistribusi normal atau tidak. Gunakan normality test\n",
    "yang dikaitkan dengan histogram plot."
   ]
  },
  {
   "cell_type": "markdown",
   "metadata": {},
   "source": [
    "Normality test dilakukan dengan menggunakan fungsi ```normaltest``` dari library scipy. Implementasi normality test jenis ini didasarkan pada **D'Agostino-Pearson Test**. \n",
    "\n",
    "Tes D'Agostino-Pearson, atau disebut juga Omnibus D'Agostino, dilakukan dengan menggabungkan hasil tes skewness dan kurtosis D'Agostino. Rumusnya diberikan sebagai berikut:$$K^2 = Z_s^2 + Z_k^2$$\n",
    "\n",
    "$Z_s^2$ adalah z-score dari tes skewness D'Agostino dan $Z_k^2$ adalah z-score dari tes kurtosis D'Agostino. Jika hipotesis null terbukti, $K^2$ diaproksimasi terdistribusi chi-squared dengan derajat kebebasan 2.\n",
    "\n",
    "Dalam soal ini, diambil hipotesis null ($H_0$) yaitu data terdistribusi normal. $H_0$ diuji dengan membandingkan nilai $\\alpha$ yang ditetapkan sebesar 0.05 dengan p-value yang didapat dari ```normaltest```. $H_0$ akan diterima jika p-value lebih besar dari $\\alpha$ dan akan ditolak jika p-value lebih kecil dari $\\alpha$.\n",
    "\n",
    "Untuk membantu pembuktian hasil normality test, ditampilkan pula histogram distribusi data dengan fungsi ```distplot``` dari library seaborn. Data yang terdistribusi normal akan menghasilkan histogram berbentuk kurva simetris (bell curve)."
   ]
  },
  {
   "cell_type": "code",
   "execution_count": 31,
   "metadata": {},
   "outputs": [],
   "source": [
    "from scipy.stats import normaltest\n",
    "\n",
    "def normality_test(df):\n",
    "    k2, p = normaltest(df)\n",
    "    print(\"P-value yang didapat sebesar\", p)\n",
    "    if (p < 0.05):\n",
    "        print(\"Hipotesis nol ditolak. Data tidak terdistribusi normal.\")\n",
    "    else:\n",
    "        print(\"Hipotesis nol diterima. Data terdistribusi normal.\")\n",
    "    sns.distplot(df)"
   ]
  },
  {
   "cell_type": "markdown",
   "metadata": {},
   "source": [
    "### id"
   ]
  },
  {
   "cell_type": "code",
   "execution_count": 32,
   "metadata": {},
   "outputs": [
    {
     "name": "stdout",
     "output_type": "stream",
     "text": [
      "P-value yang didapat sebesar 1.1693020376929758e-69\n",
      "Hipotesis nol ditolak. Data tidak terdistribusi normal.\n"
     ]
    },
    {
     "data": {
      "image/png": "[encoded data removed]",
      "text/plain": [
       "<Figure size 432x288 with 1 Axes>"
      ]
     },
     "metadata": {
      "needs_background": "light"
     },
     "output_type": "display_data"
    }
   ],
   "source": [
    "normality_test(df[\"id\"])"
   ]
  },
  {
   "cell_type": "markdown",
   "metadata": {},
   "source": [
    "Kurva tidak memiliki skewness dan terlihat memiliki puncak yang datar. Hal ini adalah cerminan dari nilai kurtosis kolom id yang negatif."
   ]
  },
  {
   "cell_type": "markdown",
   "metadata": {},
   "source": [
    "### Daerah"
   ]
  },
  {
   "cell_type": "code",
   "execution_count": 33,
   "metadata": {},
   "outputs": [
    {
     "name": "stdout",
     "output_type": "stream",
     "text": [
      "P-value yang didapat sebesar 0.004386271773193838\n",
      "Hipotesis nol ditolak. Data tidak terdistribusi normal.\n"
     ]
    },
    {
     "data": {
      "image/png": "[encoded data removed]",
      "text/plain": [
       "<Figure size 432x288 with 1 Axes>"
      ]
     },
     "metadata": {
      "needs_background": "light"
     },
     "output_type": "display_data"
    }
   ],
   "source": [
    "normality_test(df[\"Daerah\"])"
   ]
  },
  {
   "cell_type": "markdown",
   "metadata": {},
   "source": [
    "Skewness kurva cenderung positif dengan nilai kurtosis yang kecil"
   ]
  },
  {
   "cell_type": "markdown",
   "metadata": {},
   "source": [
    "### SumbuUtama"
   ]
  },
  {
   "cell_type": "code",
   "execution_count": 34,
   "metadata": {},
   "outputs": [
    {
     "name": "stdout",
     "output_type": "stream",
     "text": [
      "P-value yang didapat sebesar 2.2127429343273333e-21\n",
      "Hipotesis nol ditolak. Data tidak terdistribusi normal.\n"
     ]
    },
    {
     "data": {
      "image/png": "[encoded data removed]",
      "text/plain": [
       "<Figure size 432x288 with 1 Axes>"
      ]
     },
     "metadata": {
      "needs_background": "light"
     },
     "output_type": "display_data"
    }
   ],
   "source": [
    "normality_test(df[\"SumbuUtama\"])"
   ]
  },
  {
   "cell_type": "markdown",
   "metadata": {},
   "source": [
    "Kurva terlihat jelas memiliki skewness positif dengan kurtosis yang cukup besar, terlihat dari adanya tail di daerah kanan."
   ]
  },
  {
   "cell_type": "markdown",
   "metadata": {},
   "source": [
    "### SumbuKecil"
   ]
  },
  {
   "cell_type": "code",
   "execution_count": 35,
   "metadata": {},
   "outputs": [
    {
     "name": "stdout",
     "output_type": "stream",
     "text": [
      "P-value yang didapat sebesar 0.1573634413290252\n",
      "Hipotesis nol diterima. Data terdistribusi normal.\n"
     ]
    },
    {
     "data": {
      "image/png": "[encoded data removed]",
      "text/plain": [
       "<Figure size 432x288 with 1 Axes>"
      ]
     },
     "metadata": {
      "needs_background": "light"
     },
     "output_type": "display_data"
    }
   ],
   "source": [
    "normality_test(df[\"SumbuKecil\"])"
   ]
  },
  {
   "cell_type": "markdown",
   "metadata": {},
   "source": [
    "Bentuk kurva simetris mengikuti bell curve, sehingga dapat disimpulkan distribusi datanya normal."
   ]
  },
  {
   "cell_type": "markdown",
   "metadata": {},
   "source": [
    "### Keunikan"
   ]
  },
  {
   "cell_type": "code",
   "execution_count": 36,
   "metadata": {},
   "outputs": [
    {
     "name": "stdout",
     "output_type": "stream",
     "text": [
      "P-value yang didapat sebesar 3.602971140062405e-35\n",
      "Hipotesis nol ditolak. Data tidak terdistribusi normal.\n"
     ]
    },
    {
     "data": {
      "image/png": "[encoded data removed]",
      "text/plain": [
       "<Figure size 432x288 with 1 Axes>"
      ]
     },
     "metadata": {
      "needs_background": "light"
     },
     "output_type": "display_data"
    }
   ],
   "source": [
    "normality_test(df[\"Keunikan\"])"
   ]
  },
  {
   "cell_type": "markdown",
   "metadata": {},
   "source": [
    "Kurva jelas terlihat memiliki skewness negatif karena frekuensi terbesar ada di bagian kiri kurva."
   ]
  },
  {
   "cell_type": "markdown",
   "metadata": {},
   "source": [
    "### AreaBulatan"
   ]
  },
  {
   "cell_type": "code",
   "execution_count": 37,
   "metadata": {},
   "outputs": [
    {
     "name": "stdout",
     "output_type": "stream",
     "text": [
      "P-value yang didapat sebesar 0.004657058890055043\n",
      "Hipotesis nol ditolak. Data tidak terdistribusi normal.\n"
     ]
    },
    {
     "data": {
      "image/png": "[encoded data removed]",
      "text/plain": [
       "<Figure size 432x288 with 1 Axes>"
      ]
     },
     "metadata": {
      "needs_background": "light"
     },
     "output_type": "display_data"
    }
   ],
   "source": [
    "normality_test(df[\"AreaBulatan\"])"
   ]
  },
  {
   "cell_type": "markdown",
   "metadata": {},
   "source": [
    "Kurva memiliki skewness yang cenderung positif dengan nilai kurtosis yang tidak terlalu besar."
   ]
  },
  {
   "cell_type": "markdown",
   "metadata": {},
   "source": [
    "### Diameter"
   ]
  },
  {
   "cell_type": "code",
   "execution_count": 38,
   "metadata": {},
   "outputs": [
    {
     "name": "stdout",
     "output_type": "stream",
     "text": [
      "P-value yang didapat sebesar 0.024157198077543095\n",
      "Hipotesis nol ditolak. Data tidak terdistribusi normal.\n"
     ]
    },
    {
     "data": {
      "image/png": "[encoded data removed]",
      "text/plain": [
       "<Figure size 432x288 with 1 Axes>"
      ]
     },
     "metadata": {
      "needs_background": "light"
     },
     "output_type": "display_data"
    }
   ],
   "source": [
    "normality_test(df[\"Diameter\"])"
   ]
  },
  {
   "cell_type": "markdown",
   "metadata": {},
   "source": [
    "Kurva cenderung memiliki skewness positif meskipun sangat kecil. Nilai kurtosisnya yang kecil juga memberikan ilusi bahwa data terdistribusi normal meskipun sebenarnya tidak demikian."
   ]
  },
  {
   "cell_type": "markdown",
   "metadata": {},
   "source": [
    "### KadarAir"
   ]
  },
  {
   "cell_type": "code",
   "execution_count": 39,
   "metadata": {},
   "outputs": [
    {
     "name": "stdout",
     "output_type": "stream",
     "text": [
      "P-value yang didapat sebesar 2.5869363404624707e-11\n",
      "Hipotesis nol ditolak. Data tidak terdistribusi normal.\n"
     ]
    },
    {
     "data": {
      "image/png": "[encoded data removed]",
      "text/plain": [
       "<Figure size 432x288 with 1 Axes>"
      ]
     },
     "metadata": {
      "needs_background": "light"
     },
     "output_type": "display_data"
    }
   ],
   "source": [
    "normality_test(df[\"KadarAir\"])"
   ]
  },
  {
   "cell_type": "markdown",
   "metadata": {},
   "source": [
    "Kurva memiliki skewness positif dengan kurtosis yang negatif, terlihat dari bentuk kurva yang cukup lebar."
   ]
  },
  {
   "cell_type": "markdown",
   "metadata": {},
   "source": [
    "### Keliling"
   ]
  },
  {
   "cell_type": "code",
   "execution_count": 40,
   "metadata": {},
   "outputs": [
    {
     "name": "stdout",
     "output_type": "stream",
     "text": [
      "P-value yang didapat sebesar 2.2390130437166565e-15\n",
      "Hipotesis nol ditolak. Data tidak terdistribusi normal.\n"
     ]
    },
    {
     "data": {
      "image/png": "[encoded data removed]",
      "text/plain": [
       "<Figure size 432x288 with 1 Axes>"
      ]
     },
     "metadata": {
      "needs_background": "light"
     },
     "output_type": "display_data"
    }
   ],
   "source": [
    "normality_test(df[\"Keliling\"])"
   ]
  },
  {
   "cell_type": "markdown",
   "metadata": {},
   "source": [
    "Terlihat kurva memiliki skewness positif dan kurtosis yang besar dengan adanya tail di bagian kanan kurva."
   ]
  },
  {
   "cell_type": "markdown",
   "metadata": {},
   "source": [
    "### Bulatan"
   ]
  },
  {
   "cell_type": "code",
   "execution_count": 41,
   "metadata": {},
   "outputs": [
    {
     "name": "stdout",
     "output_type": "stream",
     "text": [
      "P-value yang didapat sebesar 9.885276103161724e-97\n",
      "Hipotesis nol ditolak. Data tidak terdistribusi normal.\n"
     ]
    },
    {
     "data": {
      "image/png": "[encoded data removed]",
      "text/plain": [
       "<Figure size 432x288 with 1 Axes>"
      ]
     },
     "metadata": {
      "needs_background": "light"
     },
     "output_type": "display_data"
    }
   ],
   "source": [
    "normality_test(df[\"Bulatan\"])"
   ]
  },
  {
   "cell_type": "markdown",
   "metadata": {},
   "source": [
    "Skewness negatif terlihat cukup jelas di kurva dan kurtosis yang sangat besar juga terlihat dari tail yang panjang di sisi kiri."
   ]
  },
  {
   "cell_type": "markdown",
   "metadata": {},
   "source": [
    "### Ransum"
   ]
  },
  {
   "cell_type": "code",
   "execution_count": 42,
   "metadata": {},
   "outputs": [
    {
     "name": "stdout",
     "output_type": "stream",
     "text": [
      "P-value yang didapat sebesar 8.963008041823752e-09\n",
      "Hipotesis nol ditolak. Data tidak terdistribusi normal.\n"
     ]
    },
    {
     "data": {
      "image/png": "[encoded data removed]",
      "text/plain": [
       "<Figure size 432x288 with 1 Axes>"
      ]
     },
     "metadata": {
      "needs_background": "light"
     },
     "output_type": "display_data"
    }
   ],
   "source": [
    "normality_test(df[\"Ransum\"])"
   ]
  },
  {
   "cell_type": "markdown",
   "metadata": {},
   "source": [
    "Kurva memiliki skewness negatif dengan kurtosis yang cukup kecil."
   ]
  },
  {
   "cell_type": "markdown",
   "metadata": {},
   "source": [
    "### Kelas"
   ]
  },
  {
   "cell_type": "code",
   "execution_count": 43,
   "metadata": {},
   "outputs": [
    {
     "name": "stdout",
     "output_type": "stream",
     "text": [
      "P-value yang didapat sebesar 0.0\n",
      "Hipotesis nol ditolak. Data tidak terdistribusi normal.\n"
     ]
    },
    {
     "data": {
      "image/png": "[encoded data removed]",
      "text/plain": [
       "<Figure size 432x288 with 1 Axes>"
      ]
     },
     "metadata": {
      "needs_background": "light"
     },
     "output_type": "display_data"
    }
   ],
   "source": [
    "normality_test(df[\"Kelas\"])"
   ]
  },
  {
   "cell_type": "markdown",
   "metadata": {},
   "source": [
    "Kolom Kelas hanya memiliki 2 nilai yaitu \"1\" dan \"2\" sehingga kurva terlihat jelas memiliki dua maksima."
   ]
  },
  {
   "cell_type": "markdown",
   "metadata": {},
   "source": [
    "# Nomor 4"
   ]
  },
  {
   "cell_type": "markdown",
   "metadata": {},
   "source": [
    "Melakukan test hipotesis 1 sampel, dengan menuliskan 6 langkah testing dan menampilkan\n",
    "juga boxplotnya untuk kolom/bagian yang bersesuaian."
   ]
  },
  {
   "cell_type": "code",
   "execution_count": 44,
   "metadata": {},
   "outputs": [],
   "source": [
    "import scipy.stats as st"
   ]
  },
  {
   "cell_type": "markdown",
   "metadata": {},
   "source": [
    "### a. Nilai rata-rata Daerah di atas 4700?"
   ]
  },
  {
   "cell_type": "code",
   "execution_count": 45,
   "metadata": {},
   "outputs": [
    {
     "name": "stdout",
     "output_type": "stream",
     "text": [
      "Langkah 1: Hiposesis H_0 yang kami ambil ialah mu_0 = 4700\n",
      "Langkah 2: Hiposesis H_1 yang kami ambil ialah mu_0 > 4700\n",
      "Langkah 3: Tingkat signifikan a yang kami ambil ialah 0.05\n",
      "Langkah 4: Uji statistik yang sesuai ialah dengan mengambil z = (mean - mu_0)/(std/(n**0.5)), karena mean dan std populasi diketahui. Serta karena H_1 ialah mu_0 > 4700, maka daerah kritis ialah z > z_a = z_0.95\n",
      "z_a = 1.6448536269514722\n",
      "Langkah 5:\n",
      "xbar = 4801.246 , std = 986.3954914816018 , n = 500\n",
      "z = 2.295153824252517\n",
      "p-value = 0.010862155196799894\n",
      "Langkah 6:\n",
      "Karena berada dalam daerah kritis, hipotesis H_0 ditolak sehingga rata-rata kolom daerah lebih 4700\n"
     ]
    }
   ],
   "source": [
    "print(\"Langkah 1: Hiposesis H_0 yang kami ambil ialah mu_0 = 4700\")\n",
    "H_0 = \"rata-rata kolom daerah bernilai 4700\"\n",
    "print(\"Langkah 2: Hiposesis H_1 yang kami ambil ialah mu_0 > 4700\")\n",
    "H_1 = \"rata-rata kolom daerah lebih 4700\"\n",
    "print(\"Langkah 3: Tingkat signifikan a yang kami ambil ialah 0.05\")\n",
    "a = 0.05\n",
    "print(\"Langkah 4: Uji statistik yang sesuai ialah dengan mengambil z = (mean - mu_0)/(std/(n**0.5)), karena mean dan std populasi diketahui. Serta karena H_1 ialah mu_0 > 4700, maka daerah kritis ialah z > z_a = z_0.95\")\n",
    "z_a = st.norm.ppf(.95)\n",
    "print(\"z_a =\",z_a)\n",
    "def isKritis(p, a):\n",
    "    return p < a\n",
    "print(\"Langkah 5:\")\n",
    "mu_0 = 4700\n",
    "mean = df[\"Daerah\"].mean()\n",
    "std = df[\"Daerah\"].std()\n",
    "n = len(df[\"Daerah\"])\n",
    "print(\"xbar =\", mean, \", std =\", std, \", n =\", n)\n",
    "z = (mean - mu_0)/(std/(n**0.5))\n",
    "print(\"z =\",z)\n",
    "p = 1 - st.norm.cdf(z)\n",
    "print(\"p-value =\", p)\n",
    "print(\"Langkah 6:\")\n",
    "if isKritis(p, a):\n",
    "    print(\"Karena berada dalam daerah kritis, hipotesis H_0 ditolak sehingga \" + H_1)\n",
    "else:\n",
    "    print(\"Karena tidak berada dalam daerah kritis, hipotesis H_0 diterima sehingga \" + H_0)"
   ]
  },
  {
   "cell_type": "markdown",
   "metadata": {},
   "source": [
    "### b. Nilai Rata-rata Sumbu Utama tidak sama dengan 116?"
   ]
  },
  {
   "cell_type": "code",
   "execution_count": 46,
   "metadata": {},
   "outputs": [
    {
     "name": "stdout",
     "output_type": "stream",
     "text": [
      "Langkah 1: Hiposesis H_0 yang kami ambil ialah mu_0 = 116\n",
      "Langkah 2: Hiposesis H_1 yang kami ambil ialah mu_0 != 116\n",
      "Langkah 3: Tingkat signifikan a yang kami ambil ialah 0.05\n",
      "a = 0.05\n",
      "Langkah 4: Uji statistik yang sesuai ialah dengan mengambil z = (mean - mu_0)/(std/(n**0.5)), \n",
      "karena mean dan std populasi diketahui. Serta karena H_1 ialah mu_0 != 116, maka daerah kritis ialah z > z_a/2 atau z < -z_a/2\n",
      "z_a/2 = 1.959963984540054\n",
      "Langkah 5:\n",
      "xbar = 116.04517136778003 , std = 18.28262595755936 , n = 500\n",
      "z = 0.055247123267335795\n",
      "p-value = 0.9559415872977244\n",
      "Karena tidak berada dalam daerah kritis, hipotesis H_0 diterima sehingga rata-rata kolom sumbu utama bernilai 116\n"
     ]
    }
   ],
   "source": [
    "print(\"Langkah 1: Hiposesis H_0 yang kami ambil ialah mu_0 = 116\")\n",
    "H_0 = \"rata-rata kolom sumbu utama bernilai 116\"\n",
    "print(\"Langkah 2: Hiposesis H_1 yang kami ambil ialah mu_0 != 116\")\n",
    "H_1 = \"rata-rata kolom sumbu utama tidak sama dengan 116\"\n",
    "print(\"Langkah 3: Tingkat signifikan a yang kami ambil ialah 0.05\")\n",
    "a = 0.05\n",
    "print(\"a =\", a)\n",
    "print(\"Langkah 4: Uji statistik yang sesuai ialah dengan mengambil z = (mean - mu_0)/(std/(n**0.5)), \")\n",
    "print(\"karena mean dan std populasi diketahui. Serta karena H_1 ialah mu_0 != 116, maka daerah kritis ialah z > z_a/2 atau z < -z_a/2\")\n",
    "z_adiv2 = st.norm.ppf(.975)\n",
    "print(\"z_a/2 =\",z_adiv2)\n",
    "print(\"Langkah 5:\")\n",
    "mu_0 = 116\n",
    "mean = df[\"SumbuUtama\"].mean()\n",
    "std = df[\"SumbuUtama\"].std()\n",
    "n = len(df[\"SumbuUtama\"])\n",
    "print(\"xbar =\", mean, \", std =\", std, \", n =\", n)\n",
    "z = (mean - mu_0)/(std/(n**0.5))\n",
    "print(\"z =\",z)\n",
    "p = 2*(1-st.norm.cdf(z))\n",
    "print(\"p-value =\", p)\n",
    "#Langkah 6:\n",
    "if (p < a):\n",
    "    print(\"Karena berada dalam daerah kritis, hipotesis H_0 ditolak sehingga \" + H_1)\n",
    "else:\n",
    "    print(\"Karena tidak berada dalam daerah kritis, hipotesis H_0 diterima sehingga \" + H_0)"
   ]
  },
  {
   "cell_type": "markdown",
   "metadata": {},
   "source": [
    "### c. Nilai Rata-rata 20 baris pertama kolom Sumbu Kecil bukan 50?"
   ]
  },
  {
   "cell_type": "code",
   "execution_count": 47,
   "metadata": {},
   "outputs": [
    {
     "name": "stdout",
     "output_type": "stream",
     "text": [
      "0     58.470846\n",
      "1     49.837688\n",
      "2     52.151207\n",
      "3     49.457349\n",
      "4     55.757848\n",
      "5     56.235398\n",
      "6     61.312148\n",
      "7     57.238214\n",
      "8     52.493440\n",
      "9     58.165177\n",
      "10    49.993830\n",
      "11    52.229608\n",
      "12    50.306969\n",
      "13    55.628979\n",
      "14    57.264375\n",
      "15    57.617554\n",
      "16    56.655596\n",
      "17    53.990675\n",
      "18    56.984844\n",
      "19    55.953780\n",
      "Name: SumbuKecil, dtype: float64\n"
     ]
    }
   ],
   "source": [
    "print(df['SumbuKecil'][:20])"
   ]
  },
  {
   "cell_type": "code",
   "execution_count": 48,
   "metadata": {},
   "outputs": [
    {
     "name": "stdout",
     "output_type": "stream",
     "text": [
      "Langkah 1: Hiposesis H_0 yang kami ambil ialah mu_0 = 50\n",
      "Langkah 2: Hiposesis H_1 yang kami ambil ialah mu_0 != 50\n",
      "Langkah 3: Tingkat signifikan a yang kami ambil ialah 0.05\n",
      "a = 0.05\n",
      "Langkah 4: Uji statistik yang sesuai ialah dengan mengambil t = (mean - mu_0)/(s/(n**0.5)), \n",
      "karena std tidak diketahui. Serta karena H_1 ialah p < 0.05, maka daerah kritis ialah t > t_a dan t < -t_a\n",
      "derajat kebebasan = 19\n",
      "t_a/2 = 1.729132811521367\n",
      "Langkah 5:\n",
      "xbar = 54.887276260499995 , s = 3.373879898276029 , n = 20\n",
      "t = 6.478168916968886\n",
      "p-value = 3.302018564577125e-06\n",
      "Karena berada dalam daerah kritis, hipotesis H_0 ditolak sehingga rata-rata kolom sumbu kecil tidak sama dengan 50\n"
     ]
    }
   ],
   "source": [
    "print(\"Langkah 1: Hiposesis H_0 yang kami ambil ialah mu_0 = 50\")\n",
    "H_0 = \"rata-rata kolom sumbu kecil bernilai 50\"\n",
    "print(\"Langkah 2: Hiposesis H_1 yang kami ambil ialah mu_0 != 50\")\n",
    "H_1 = \"rata-rata kolom sumbu kecil tidak sama dengan 50\"\n",
    "print(\"Langkah 3: Tingkat signifikan a yang kami ambil ialah 0.05\")\n",
    "a = 0.05\n",
    "print(\"a =\", a)\n",
    "print(\"Langkah 4: Uji statistik yang sesuai ialah dengan mengambil t = (mean - mu_0)/(s/(n**0.5)), \")\n",
    "print(\"karena std tidak diketahui. Serta karena H_1 ialah p < 0.05, maka daerah kritis ialah t > t_a dan t < -t_a\")\n",
    "v = 19\n",
    "print(\"derajat kebebasan =\", v)\n",
    "t_adiv2 = st.t.ppf(.95, v)\n",
    "print(\"t_a/2 =\",t_adiv2)\n",
    "print(\"Langkah 5:\")\n",
    "mu_0 = 50\n",
    "mean = df[\"SumbuKecil\"][:20].mean()\n",
    "s = df[\"SumbuKecil\"][:20].std()\n",
    "n = 20\n",
    "print(\"xbar =\", mean, \", s =\", s, \", n =\", n)\n",
    "t = (mean - mu_0)/(s/(n**0.5))\n",
    "print(\"t =\",t)\n",
    "p = 2*(1-st.t.cdf(t, v))\n",
    "print(\"p-value =\", p)\n",
    "#Langkah 6:\n",
    "if (p < a):\n",
    "    print(\"Karena berada dalam daerah kritis, hipotesis H_0 ditolak sehingga \" + H_1)\n",
    "else:\n",
    "    print(\"Karena tidak berada dalam daerah kritis, hipotesis H_0 diterima sehingga \" + H_0)"
   ]
  },
  {
   "cell_type": "markdown",
   "metadata": {},
   "source": [
    "### d. Proporsi nilai Diameter yang lebih dari 85, adalah tidak sama dengan 15% ?"
   ]
  },
  {
   "cell_type": "code",
   "execution_count": 49,
   "metadata": {},
   "outputs": [
    {
     "name": "stdout",
     "output_type": "stream",
     "text": [
      "Langkah 1: Hiposesis H_0 yang kami ambil ialah p = 0.15\n",
      "Langkah 2: Hiposesis H_1 yang kami ambil ialah p != 0.15\n",
      "Langkah 3: Tingkat signifikan a yang kami ambil ialah 0.05\n",
      "a = 0.05\n",
      "Langkah 4: Uji statistik yang sesuai ialah dengan mengambil z = (x - n*p0)/((n*p0*q0)**0.5), \n",
      "karena mean dan std populasi diketahui. Serta karena H_1 ialah p != 0.15, maka daerah kritis ialah z > z_a/2 atau z < -z_a/2\n",
      "z_a/2 = 1.959963984540054\n",
      "Langkah 5:\n",
      "x = 97 , p0 = 0.15 , q0 = 0.85\n",
      "z = 2.7553868807746578\n",
      "p-value = 0.005862277168409591\n",
      "Karena berada dalam daerah kritis, hipotesis H_0 ditolak sehingga persentase diameter yang lebih dari 85 bukan 15\n"
     ]
    }
   ],
   "source": [
    "print(\"Langkah 1: Hiposesis H_0 yang kami ambil ialah p = 0.15\")\n",
    "H_0 = \"persentase diameter yang lebih dari 85 ialah 15\"\n",
    "print(\"Langkah 2: Hiposesis H_1 yang kami ambil ialah p != 0.15\")\n",
    "H_1 = \"persentase diameter yang lebih dari 85 bukan 15\"\n",
    "print(\"Langkah 3: Tingkat signifikan a yang kami ambil ialah 0.05\")\n",
    "a = 0.05\n",
    "print(\"a =\", a)\n",
    "print(\"Langkah 4: Uji statistik yang sesuai ialah dengan mengambil z = (x - n*p0)/((n*p0*q0)**0.5), \")\n",
    "print(\"karena mean dan std populasi diketahui. Serta karena H_1 ialah p != 0.15, maka daerah kritis ialah z > z_a/2 atau z < -z_a/2\")\n",
    "z_adiv2 = st.norm.ppf(.975)\n",
    "print(\"z_a/2 =\",z_adiv2)\n",
    "print(\"Langkah 5:\")\n",
    "x = 0\n",
    "n = len(df[\"Diameter\"])\n",
    "for i in range (n):\n",
    "    if(df[\"Diameter\"][i] > 85):\n",
    "        x += 1\n",
    "p0 = 0.15\n",
    "q0 = 1 - p0\n",
    "print(\"x =\", x, \", p0 =\", p0, \", q0 =\", q0)\n",
    "z = (x - n*p0)/((n*p0*q0)**0.5)\n",
    "print(\"z =\",z)\n",
    "p = 2*(1-st.norm.cdf(z))\n",
    "print(\"p-value =\", p)\n",
    "#Langkah 6:\n",
    "if (p < a):\n",
    "    print(\"Karena berada dalam daerah kritis, hipotesis H_0 ditolak sehingga \" + H_1)\n",
    "else:\n",
    "    print(\"Karena tidak berada dalam daerah kritis, hipotesis H_0 diterima sehingga \" + H_0)"
   ]
  },
  {
   "cell_type": "markdown",
   "metadata": {},
   "source": [
    "### e. Proporsi nilai Keliling yang kurang dari 100, adalah kurang dari 5% ?"
   ]
  },
  {
   "cell_type": "code",
   "execution_count": 50,
   "metadata": {},
   "outputs": [
    {
     "name": "stdout",
     "output_type": "stream",
     "text": [
      "Langkah 1: Hiposesis H_0 yang kami ambil ialah p = 0.05\n",
      "Langkah 2: Hiposesis H_1 yang kami ambil ialah p < 0.05\n",
      "Langkah 3: Tingkat signifikan a yang kami ambil ialah 0.05\n",
      "a = 0.05\n",
      "Langkah 4: Uji statistik yang sesuai ialah dengan mengambil z = (x - n*p0)/((n*p0*q0)**0.5), \n",
      "karena mean dan std populasi diketahui. Serta karena H_1 ialah p < 0.05, maka daerah kritis ialah z < -z_a\n",
      "z_a = 1.6448536269514722\n",
      "Langkah 5:\n",
      "x = 0 , p0 = 0.05 , q0 = 0.95\n",
      "z = -5.129891760425771\n",
      "p-value = 1.4495441414387716e-07\n",
      "Karena berada dalam daerah kritis, hipotesis H_0 ditolak sehingga persentase keliling yang kurang dari 100 kurang dari 5\n"
     ]
    }
   ],
   "source": [
    "print(\"Langkah 1: Hiposesis H_0 yang kami ambil ialah p = 0.05\")\n",
    "H_0 = \"persentase keliling yang kurang dari 100 ialah 5\"\n",
    "print(\"Langkah 2: Hiposesis H_1 yang kami ambil ialah p < 0.05\")\n",
    "H_1 = \"persentase keliling yang kurang dari 100 kurang dari 5\"\n",
    "print(\"Langkah 3: Tingkat signifikan a yang kami ambil ialah 0.05\")\n",
    "a = 0.05\n",
    "print(\"a =\", a)\n",
    "print(\"Langkah 4: Uji statistik yang sesuai ialah dengan mengambil z = (x - n*p0)/((n*p0*q0)**0.5), \")\n",
    "print(\"karena mean dan std populasi diketahui. Serta karena H_1 ialah p < 0.05, maka daerah kritis ialah z < -z_a\")\n",
    "z_a = st.norm.ppf(.95)\n",
    "print(\"z_a =\",z_a)\n",
    "def isKritis(p, a):\n",
    "    return p < a\n",
    "print(\"Langkah 5:\")\n",
    "x = 0\n",
    "n = len(df[\"Keliling\"])\n",
    "for i in range (n):\n",
    "    if(df[\"Keliling\"][i] < 100):\n",
    "        x += 1\n",
    "p0 = 0.05\n",
    "q0 = 1 - p0\n",
    "print(\"x =\", x, \", p0 =\", p0, \", q0 =\", q0)\n",
    "z = (x - n*p0)/((n*p0*q0)**0.5)\n",
    "print(\"z =\",z)\n",
    "p = st.norm.cdf(z)\n",
    "print(\"p-value =\", p)\n",
    "#Langkah 6:\n",
    "if isKritis(p, a):\n",
    "    print(\"Karena berada dalam daerah kritis, hipotesis H_0 ditolak sehingga \" + H_1)\n",
    "else:\n",
    "    print(\"Karena tidak berada dalam daerah kritis, hipotesis H_0 diterima sehingga \" + H_0)"
   ]
  },
  {
   "cell_type": "markdown",
   "metadata": {},
   "source": [
    "# Nomor 5"
   ]
  },
  {
   "cell_type": "markdown",
   "metadata": {},
   "source": [
    "Melakukan test hipotesis 2 sampel, dengan menuliskan 6 langkah testing dan menampilkan\n",
    "juga boxplotnya untuk kolom/bagian yang bersesuaian.\n",
    "\n",
    "ASUMSI: Seluruh data yang digunakan berdistribusi normal."
   ]
  },
  {
   "cell_type": "markdown",
   "metadata": {},
   "source": [
    "### a. Data kolom AreaBulatan dibagi 2 sama rata: bagian awal dan bagian akhir kolom. Benarkah rata-rata kedua bagian tersebut sama?"
   ]
  },
  {
   "cell_type": "markdown",
   "metadata": {},
   "source": [
    "Misal:\n",
    "\n",
    "$A_1$: Data AreaBulatan bagian awal kolom\n",
    "\n",
    "$A_2$: Data AreaBulatan bagian akhir kolom"
   ]
  },
  {
   "cell_type": "code",
   "execution_count": 51,
   "metadata": {},
   "outputs": [
    {
     "data": {
      "image/png": "[encoded data removed]",
      "text/plain": [
       "<Figure size 432x288 with 1 Axes>"
      ]
     },
     "metadata": {
      "needs_background": "light"
     },
     "output_type": "display_data"
    }
   ],
   "source": [
    "ax = df.loc[:249].boxplot([\"AreaBulatan\"])\n",
    "ax.set_title(\"Boxplot A1\")\n",
    "plt.show()"
   ]
  },
  {
   "cell_type": "code",
   "execution_count": 52,
   "metadata": {},
   "outputs": [
    {
     "data": {
      "image/png": "[encoded data removed]",
      "text/plain": [
       "<Figure size 432x288 with 1 Axes>"
      ]
     },
     "metadata": {
      "needs_background": "light"
     },
     "output_type": "display_data"
    }
   ],
   "source": [
    "ax = df.loc[250:].boxplot([\"AreaBulatan\"])\n",
    "ax.set_title(\"Boxplot A2\")\n",
    "plt.show()"
   ]
  },
  {
   "cell_type": "markdown",
   "metadata": {},
   "source": [
    "Pertama ditentukan terlebih dahulu hipotesis nol $H_0$ sebagai berikut:\n",
    "\n",
    "$H_0$: $\\mu_{A_1} = \\mu_{A_2}$\n",
    "\n",
    "Hipotesis nol yang ditetapkan adalah rata-rata data bagian awal kolom sama dengan rata-rata data bagian akhir kolom.\n",
    "\n",
    "Selanjutnya ditentukan hipotesis alternatif $H_1$ sebagai berikut:\n",
    "\n",
    "$H_1$: $\\mu_{A_1} \\neq \\mu_{A_2}$\n",
    "\n",
    "Hipotesis alternatif yang ditetapkan adalah rata-rata data bagian awal kolom tidak sama dengan rata-rata data bagian akhir kolom. Hal ini berarti rata-rata $A_1$ dapat lebih besar atau lebih kecil dari rata-rata $A_2$.\n",
    "\n",
    "Tingkat signifikansi $\\alpha$ ditetapkan dengan:\n",
    "\n",
    "$\\alpha = 0.05$\n",
    "\n",
    "Tes statistik dilakukan dengan **t-distribution** atau disebut juga Student's t-test. Daerah kritisnya diberikan sebagai berikut:\n",
    "$$ t < -t_{\\alpha/2}(v) \\quad or \\quad t > t_{\\alpha/2}(v)$$ \n",
    "$v =$ derajat kebebasan $= n_{A_1} + n_{A_2} - 2$\n",
    "\n",
    "Hitung v\n",
    "\n",
    "$n_{A_1} = 250$\n",
    "\n",
    "$n_{A_2} = 250$\n",
    "\n",
    "$v = 250 + 250 - 2 = 498$\n",
    "\n",
    "Cari batasan daerah kritis dengan bantuan modul ```scipy.stats```:"
   ]
  },
  {
   "cell_type": "code",
   "execution_count": 53,
   "metadata": {},
   "outputs": [
    {
     "name": "stdout",
     "output_type": "stream",
     "text": [
      "Batas bawah : -1.9647\n",
      "Batas atas : 1.9647\n"
     ]
    }
   ],
   "source": [
    "from scipy.stats import t\n",
    "\n",
    "# rumus: t.ppf(alpha/2, v)\n",
    "a = t.ppf(0.025, 498)\n",
    "print(\"Batas bawah :\", round(a, 4))\n",
    "print(\"Batas atas :\", round(-a, 4))"
   ]
  },
  {
   "cell_type": "markdown",
   "metadata": {},
   "source": [
    "Didapatkan daerah kritisnya adalah $ t < -1.9647 \\quad or \\quad t > 1.9647$\n",
    "\n",
    "Nilai $t$ harus berada di luar daerah kritis supaya $H_0$ diterima. Rumus $t$ diberikan sebagai berikut:\n",
    "$$\\Large t = \\Large\\frac{(\\bar{X_1} - \\bar{X_2})-(\\mu_1 - \\mu_2)}{\\sqrt{\\Large\\frac{s_1^2}{\\Large n_{1}} + \\Large\\frac{s_2^2}{\\Large n_{2}}}}$$\n",
    "$\\bar{X_1}$ : rata-rata sampel $A_1$\n",
    "\n",
    "$\\bar{X_2}$ : rata-rata sampel $A_2$\n",
    "\n",
    "$\\mu_1$ : rata-rata populasi $A_1$\n",
    "\n",
    "$\\mu_2$ : rata-rata populasi $A_2$\n",
    "\n",
    "$S_1^2$ : variansi sampel $A_1$\n",
    "\n",
    "$S_2^2$ : variansi sampel $A_2$\n",
    "\n",
    "Dari hipotesis, $\\mu_{A_1} = \\mu_{A_2}$ maka $\\mu_{A_1} - \\mu_{A_2} = 0$.\n",
    "\n",
    "Cari nilai $\\bar{X_1}$, $\\bar{X_2}$, $S_1^2$, dan $S_2^2$"
   ]
  },
  {
   "cell_type": "code",
   "execution_count": 54,
   "metadata": {},
   "outputs": [
    {
     "name": "stdout",
     "output_type": "stream",
     "text": [
      "Rata-rata A1 : 5549.804\n",
      "Rata-rata A2 : 4324.292\n",
      "Variansi A1 : 751733.1060080321\n",
      "Variansi A2 : 545480.4244337347\n"
     ]
    }
   ],
   "source": [
    "x1 = df.loc[:249, \"AreaBulatan\"].mean()\n",
    "x2 = df.loc[250:, \"AreaBulatan\"].mean()\n",
    "s1 = df.loc[:249, \"AreaBulatan\"].var()\n",
    "s2 = df.loc[250:, \"AreaBulatan\"].var()\n",
    "print(\"Rata-rata A1 :\", x1)\n",
    "print(\"Rata-rata A2 :\", x2)\n",
    "print(\"Variansi A1 :\", s1)\n",
    "print(\"Variansi A2 :\", s2)"
   ]
  },
  {
   "cell_type": "markdown",
   "metadata": {},
   "source": [
    "Lakukan komputasi untuk mencari nilai $t$"
   ]
  },
  {
   "cell_type": "code",
   "execution_count": 55,
   "metadata": {},
   "outputs": [
    {
     "name": "stdout",
     "output_type": "stream",
     "text": [
      "Nilai t : 17.013\n"
     ]
    }
   ],
   "source": [
    "from math import sqrt\n",
    "\n",
    "t_value = (x1 - x2) / sqrt((s1/250) + (s2/250))\n",
    "print(\"Nilai t :\", round(t_value, 4))"
   ]
  },
  {
   "cell_type": "markdown",
   "metadata": {},
   "source": [
    "Nilai $t$ yang didapat berada di dalam daerah kritis ($17.013 > 1.9647$). Oleh karena itu, keputusan yang diambil adalah **menolak $H_0$**. Kesimpulan yang didapat adalah ketika data kolom AreaBulatan dibagi dua sama rata, **rata-rata bagian awal kolom tidak sama dengan rata-rata bagian akhir kolom**."
   ]
  },
  {
   "cell_type": "markdown",
   "metadata": {},
   "source": [
    "### b. Data kolom Kadar Air dibagi 2 sama rata: bagian awal dan bagian akhir kolom. Benarkah rata-rata bagian awal lebih besar dari pada bagian akhir sebesar 0.2?"
   ]
  },
  {
   "cell_type": "markdown",
   "metadata": {},
   "source": [
    "Misal:\n",
    "\n",
    "$A_1$: Data KadarAir bagian awal kolom\n",
    "\n",
    "$A_2$: Data KadarAir bagian akhir kolom"
   ]
  },
  {
   "cell_type": "code",
   "execution_count": 56,
   "metadata": {},
   "outputs": [
    {
     "data": {
      "image/png": "[encoded data removed]",
      "text/plain": [
       "<Figure size 432x288 with 1 Axes>"
      ]
     },
     "metadata": {
      "needs_background": "light"
     },
     "output_type": "display_data"
    }
   ],
   "source": [
    "ax = df.loc[:249].boxplot([\"KadarAir\"])\n",
    "ax.set_title(\"Boxplot A1\")\n",
    "plt.show()"
   ]
  },
  {
   "cell_type": "code",
   "execution_count": 57,
   "metadata": {},
   "outputs": [
    {
     "data": {
      "image/png": "[encoded data removed]",
      "text/plain": [
       "<Figure size 432x288 with 1 Axes>"
      ]
     },
     "metadata": {
      "needs_background": "light"
     },
     "output_type": "display_data"
    }
   ],
   "source": [
    "ax = df.loc[250:].boxplot([\"KadarAir\"])\n",
    "ax.set_title(\"Boxplot A2\")\n",
    "plt.show()"
   ]
  },
  {
   "cell_type": "markdown",
   "metadata": {},
   "source": [
    "Pertama ditentukan terlebih dahulu hipotesis nol $H_0$ sebagai berikut:\n",
    "\n",
    "$H_0$: $\\mu_{A_1} = (\\mu_{A_2} + 0.2)$\n",
    "\n",
    "Hipotesis nol yang ditetapkan adalah rata-rata data bagian awal kolom sama dengan rata-rata data bagian akhir kolom ditambah $0.2$.\n",
    "\n",
    "Selanjutnya ditentukan hipotesis alternatif $H_1$ sebagai berikut:\n",
    "\n",
    "$H_1$: $\\mu_{A_1} \\neq (\\mu_{A_2} + 0.2)$\n",
    "\n",
    "Hipotesis alternatif yang ditetapkan adalah rata-rata data bagian awal kolom tidak sama dengan rata-rata data bagian akhir kolom ditambah $0.2$. Hal ini berarti rata-rata $A_1$ dapat lebih besar atau lebih kecil dari rata-rata $A_2$ ditambah $0.2$.\n",
    "\n",
    "Tingkat signifikansi $\\alpha$ ditetapkan dengan:\n",
    "\n",
    "$\\alpha = 0.05$\n",
    "\n",
    "Tes statistik dilakukan dengan **t-distribution** atau disebut juga Student's t-test. Daerah kritisnya diberikan sebagai berikut:\n",
    "$$ t < -t_{\\alpha/2}(v) \\quad or \\quad t > t_{\\alpha/2}(v)$$ \n",
    "$v =$ derajat kebebasan $= n_{A_1} + n_{A_2} - 2$\n",
    "\n",
    "Hitung v\n",
    "\n",
    "$n_{A_1} = 250$\n",
    "\n",
    "$n_{A_2} = 250$\n",
    "\n",
    "$v = 250 + 250 - 2 = 498$\n",
    "\n",
    "Cari batasan daerah kritis dengan bantuan modul ```scipy.stats```:"
   ]
  },
  {
   "cell_type": "code",
   "execution_count": 58,
   "metadata": {},
   "outputs": [
    {
     "name": "stdout",
     "output_type": "stream",
     "text": [
      "Batas bawah : -1.9647\n",
      "Batas atas : 1.9647\n"
     ]
    }
   ],
   "source": [
    "# rumus: t.ppf(alpha/2, v)\n",
    "a = t.ppf(0.025, 498)\n",
    "print(\"Batas bawah :\", round(a, 4))\n",
    "print(\"Batas atas :\", round(-a, 4))"
   ]
  },
  {
   "cell_type": "markdown",
   "metadata": {},
   "source": [
    "Didapatkan daerah kritisnya adalah $ t < -1.9647 \\quad or \\quad t > 1.9647$\n",
    "\n",
    "Nilai $t$ harus berada di luar daerah kritis supaya $H_0$ diterima. Rumus $t$ diberikan sebagai berikut:\n",
    "$$\\Large t = \\Large\\frac{(\\bar{X_1} - \\bar{X_2})-(\\mu_1 - \\mu_2)}{\\sqrt{\\Large\\frac{s_1^2}{\\Large n_{1}} + \\Large\\frac{s_2^2}{\\Large n_{2}}}}$$\n",
    "$\\bar{X_1}$ : rata-rata sampel $A_1$\n",
    "\n",
    "$\\bar{X_2}$ : rata-rata sampel $A_2$\n",
    "\n",
    "$\\mu_1$ : rata-rata populasi $A_1$\n",
    "\n",
    "$\\mu_2$ : rata-rata populasi $A_2$\n",
    "\n",
    "$S_1^2$ : variansi sampel $A_1$\n",
    "\n",
    "$S_2^2$ : variansi sampel $A_2$\n",
    "\n",
    "Dari hipotesis, $\\mu_{A_1} = (\\mu_{A_2} + 0.2)$ maka $\\mu_{A_1} - \\mu_{A_2} = 0.2$.\n",
    "\n",
    "Cari nilai $\\bar{X_1}$, $\\bar{X_2}$, $S_1^2$, dan $S_2^2$"
   ]
  },
  {
   "cell_type": "code",
   "execution_count": 59,
   "metadata": {},
   "outputs": [
    {
     "name": "stdout",
     "output_type": "stream",
     "text": [
      "Rata-rata A1 : 0.63574344072\n",
      "Rata-rata A2 : 0.6609999030760001\n",
      "Variansi A1 : 0.009043200047076563\n",
      "Variansi A2 : 0.008482636662870607\n"
     ]
    }
   ],
   "source": [
    "x1 = df.loc[:249, \"KadarAir\"].mean()\n",
    "x2 = df.loc[250:, \"KadarAir\"].mean()\n",
    "s1 = df.loc[:249, \"KadarAir\"].var()\n",
    "s2 = df.loc[250:, \"KadarAir\"].var()\n",
    "print(\"Rata-rata A1 :\", x1)\n",
    "print(\"Rata-rata A2 :\", x2)\n",
    "print(\"Variansi A1 :\", s1)\n",
    "print(\"Variansi A2 :\", s2)"
   ]
  },
  {
   "cell_type": "markdown",
   "metadata": {},
   "source": [
    "Lakukan komputasi untuk mencari nilai $t$"
   ]
  },
  {
   "cell_type": "code",
   "execution_count": 60,
   "metadata": {},
   "outputs": [
    {
     "name": "stdout",
     "output_type": "stream",
     "text": [
      "Nilai t : -26.9034\n"
     ]
    }
   ],
   "source": [
    "t_value = (x1 - x2 - 0.2) / sqrt((s1/250) + (s2/250))\n",
    "print(\"Nilai t :\", round(t_value, 4))"
   ]
  },
  {
   "cell_type": "markdown",
   "metadata": {},
   "source": [
    "Nilai $t$ yang didapat berada di dalam daerah kritis ($-26.9034 < -1.9647$). Oleh karena itu, keputusan yang diambil adalah **menolak $H_0$**. Kesimpulan yang didapat adalah ketika data kolom KadarAir dibagi dua sama rata, **rata-rata bagian awal kolom tidak lebih besar sejumlah 0.2 dibanding rata-rata bagian akhir kolom**."
   ]
  },
  {
   "cell_type": "markdown",
   "metadata": {},
   "source": [
    "### c. Rata-rata 20 baris pertama kolom Bulatan sama dengan 20 baris terakhirnya?"
   ]
  },
  {
   "cell_type": "markdown",
   "metadata": {},
   "source": [
    "Misal:\n",
    "\n",
    "$A_1$: Data 20 baris pertama kolom Bulatan\n",
    "\n",
    "$A_2$: Data 20 baris terakhir kolom Bulatan"
   ]
  },
  {
   "cell_type": "code",
   "execution_count": 61,
   "metadata": {},
   "outputs": [
    {
     "data": {
      "image/png": "[encoded data removed]",
      "text/plain": [
       "<Figure size 432x288 with 1 Axes>"
      ]
     },
     "metadata": {
      "needs_background": "light"
     },
     "output_type": "display_data"
    }
   ],
   "source": [
    "ax = df.loc[:19].boxplot([\"Bulatan\"])\n",
    "ax.set_title(\"Boxplot A1\")\n",
    "plt.show()"
   ]
  },
  {
   "cell_type": "code",
   "execution_count": 62,
   "metadata": {},
   "outputs": [
    {
     "data": {
      "image/png": "[encoded data removed]",
      "text/plain": [
       "<Figure size 432x288 with 1 Axes>"
      ]
     },
     "metadata": {
      "needs_background": "light"
     },
     "output_type": "display_data"
    }
   ],
   "source": [
    "ax = df.loc[480:].boxplot([\"Bulatan\"])\n",
    "ax.set_title(\"Boxplot A2\")\n",
    "plt.show()"
   ]
  },
  {
   "cell_type": "markdown",
   "metadata": {},
   "source": [
    "Pertama ditentukan terlebih dahulu hipotesis nol $H_0$ sebagai berikut:\n",
    "\n",
    "$H_0$: $\\mu_{A_1} = \\mu_{A_2}$\n",
    "\n",
    "Hipotesis nol yang ditetapkan adalah rata-rata 20 baris pertama kolom Bulatan sama dengan rata-rata 20 baris terakhir kolom Bulatan.\n",
    "\n",
    "Selanjutnya ditentukan hipotesis alternatif $H_1$ sebagai berikut:\n",
    "\n",
    "$H_1$: $\\mu_{A_1} \\neq \\mu_{A_2}$\n",
    "\n",
    "Hipotesis alternatif yang ditetapkan adalah rata-rata 20 baris pertama kolom Bulatan tidak sama dengan rata-rata 20 baris terakhir kolom Bulatan. Hal ini berarti rata-rata $A_1$ dapat lebih besar atau lebih kecil dari rata-rata $A_2$.\n",
    "\n",
    "Tingkat signifikansi $\\alpha$ ditetapkan dengan:\n",
    "\n",
    "$\\alpha = 0.05$\n",
    "\n",
    "Tes statistik dilakukan dengan **t-distribution** atau disebut juga Student's t-test. Daerah kritisnya diberikan sebagai berikut:\n",
    "$$ t < -t_{\\alpha/2}(v) \\quad or \\quad t > t_{\\alpha/2}(v)$$ \n",
    "$v =$ derajat kebebasan $= n_{A_1} + n_{A_2} - 2$\n",
    "\n",
    "Hitung v\n",
    "\n",
    "$n_{A_1} = 20$\n",
    "\n",
    "$n_{A_2} = 20$\n",
    "\n",
    "$v = 20 + 20 - 2 = 38$\n",
    "\n",
    "Cari batasan daerah kritis dengan bantuan modul ```scipy.stats```:"
   ]
  },
  {
   "cell_type": "code",
   "execution_count": 63,
   "metadata": {},
   "outputs": [
    {
     "name": "stdout",
     "output_type": "stream",
     "text": [
      "Batas bawah : -2.0244\n",
      "Batas atas : 2.0244\n"
     ]
    }
   ],
   "source": [
    "# rumus: t.ppf(alpha/2, v)\n",
    "a = t.ppf(0.025, 38)\n",
    "print(\"Batas bawah :\", round(a, 4))\n",
    "print(\"Batas atas :\", round(-a, 4))"
   ]
  },
  {
   "cell_type": "markdown",
   "metadata": {},
   "source": [
    "Didapatkan daerah kritisnya adalah $ t < -2.0244 \\quad or \\quad t > 2.0244$\n",
    "\n",
    "Nilai $t$ harus berada di luar daerah kritis supaya $H_0$ diterima. Rumus $t$ diberikan sebagai berikut:\n",
    "$$\\Large t = \\Large\\frac{(\\bar{X_1} - \\bar{X_2})-(\\mu_1 - \\mu_2)}{\\sqrt{\\Large\\frac{s_1^2}{\\Large n_{1}} + \\Large\\frac{s_2^2}{\\Large n_{2}}}}$$\n",
    "$\\bar{X_1}$ : rata-rata sampel $A_1$\n",
    "\n",
    "$\\bar{X_2}$ : rata-rata sampel $A_2$\n",
    "\n",
    "$\\mu_1$ : rata-rata populasi $A_1$\n",
    "\n",
    "$\\mu_2$ : rata-rata populasi $A_2$\n",
    "\n",
    "$S_1^2$ : variansi sampel $A_1$\n",
    "\n",
    "$S_2^2$ : variansi sampel $A_2$\n",
    "\n",
    "Dari hipotesis, $\\mu_{A_1} = \\mu_{A_2}$ maka $\\mu_{A_1} - \\mu_{A_2} = 0$.\n",
    "\n",
    "Cari nilai $\\bar{X_1}$, $\\bar{X_2}$, $S_1^2$, dan $S_2^2$"
   ]
  },
  {
   "cell_type": "code",
   "execution_count": 64,
   "metadata": {},
   "outputs": [
    {
     "name": "stdout",
     "output_type": "stream",
     "text": [
      "Rata-rata A1 : 0.7375353552499999\n",
      "Rata-rata A2 : 0.767322437\n",
      "Variansi A1 : 0.0009232346025806985\n",
      "Variansi A2 : 0.0006307661055759374\n"
     ]
    }
   ],
   "source": [
    "x1 = df.loc[:19, \"Bulatan\"].mean()\n",
    "x2 = df.loc[480:, \"Bulatan\"].mean()\n",
    "s1 = df.loc[:19, \"Bulatan\"].var()\n",
    "s2 = df.loc[480:, \"Bulatan\"].var()\n",
    "print(\"Rata-rata A1 :\", x1)\n",
    "print(\"Rata-rata A2 :\", x2)\n",
    "print(\"Variansi A1 :\", s1)\n",
    "print(\"Variansi A2 :\", s2)"
   ]
  },
  {
   "cell_type": "markdown",
   "metadata": {},
   "source": [
    "Lakukan komputasi untuk mencari nilai $t$"
   ]
  },
  {
   "cell_type": "code",
   "execution_count": 65,
   "metadata": {},
   "outputs": [
    {
     "name": "stdout",
     "output_type": "stream",
     "text": [
      "Nilai t : -3.3792\n"
     ]
    }
   ],
   "source": [
    "t_value = (x1 - x2) / sqrt((s1/20) + (s2/20))\n",
    "print(\"Nilai t :\", round(t_value, 4))"
   ]
  },
  {
   "cell_type": "markdown",
   "metadata": {},
   "source": [
    "Nilai $t$ yang didapat berada di dalam daerah kritis ($-3.3792 < -2.0244$). Oleh karena itu, keputusan yang diambil adalah **menolak $H_0$**. Kesimpulan yang didapat adalah **rata-rata 20 baris pertama kolom Bulatan tidak sama dengan rata-rata 20 baris terakhir kolom Bulatan**."
   ]
  },
  {
   "cell_type": "markdown",
   "metadata": {},
   "source": [
    "### d. Proporsi nilai bagian awal Ransum yang lebih dari 2, adalah lebih besar daripada, proporsi nilai yang sama di bagian akhir Ransum?"
   ]
  },
  {
   "cell_type": "markdown",
   "metadata": {},
   "source": [
    "Misal:\n",
    "\n",
    "$X_1$: Data bagian awal kolom Ransum\n",
    "\n",
    "$X_2$: Data bagian akhir kolom Ransum"
   ]
  },
  {
   "cell_type": "code",
   "execution_count": 66,
   "metadata": {},
   "outputs": [
    {
     "data": {
      "image/png": "[encoded data removed]",
      "text/plain": [
       "<Figure size 432x288 with 1 Axes>"
      ]
     },
     "metadata": {
      "needs_background": "light"
     },
     "output_type": "display_data"
    }
   ],
   "source": [
    "ax = df.loc[:249].boxplot([\"Ransum\"])\n",
    "ax.set_title(\"Boxplot X1\")\n",
    "plt.show()"
   ]
  },
  {
   "cell_type": "code",
   "execution_count": 67,
   "metadata": {},
   "outputs": [
    {
     "data": {
      "image/png": "[encoded data removed]",
      "text/plain": [
       "<Figure size 432x288 with 1 Axes>"
      ]
     },
     "metadata": {
      "needs_background": "light"
     },
     "output_type": "display_data"
    }
   ],
   "source": [
    "ax = df.loc[250:].boxplot([\"Ransum\"])\n",
    "ax.set_title(\"Boxplot X2\")\n",
    "plt.show()"
   ]
  },
  {
   "cell_type": "markdown",
   "metadata": {},
   "source": [
    "Pertama ditentukan terlebih dahulu hipotesis nol $H_0$ sebagai berikut:\n",
    "\n",
    "$H_0$: $P(X_1 > 2) = P(X_2 > 2)$\n",
    "\n",
    "Selanjutnya ditentukan hipotesis alternatif $H_1$ sebagai berikut:\n",
    "\n",
    "$H_1$: $P(X_1 > 2) < P(X_2 > 2)$\n",
    "\n",
    "Tingkat signifikansi $\\alpha$ ditetapkan dengan:\n",
    "\n",
    "$\\alpha = 0.05$\n",
    "\n",
    "Tes statistik dilakukan dengan **Z-test** yang diaproksimasi oleh distribusi **normal** (Gaussian). Batasan daerah kritisnya diberikan sebagai berikut:\n",
    "$$ z < -z_{\\alpha/2} \\quad or \\quad z > z_{\\alpha/2}$$ \n",
    "\n",
    "Cari batasan daerah kritis dengan bantuan modul ```scipy.stats```:"
   ]
  },
  {
   "cell_type": "code",
   "execution_count": null,
   "metadata": {},
   "outputs": [],
   "source": []
  },
  {
   "cell_type": "markdown",
   "metadata": {},
   "source": [
    "### e. Bagian awal kolom Diameter memiliki variansi yang sama dengan bagian akhirnya?"
   ]
  },
  {
   "cell_type": "markdown",
   "metadata": {},
   "source": [
    "Misal:\n",
    "\n",
    "$A_1$: Data bagian awal kolom Diameter\n",
    "\n",
    "$A_2$ Data bagian awal kolom Diameter"
   ]
  },
  {
   "cell_type": "code",
   "execution_count": 68,
   "metadata": {},
   "outputs": [
    {
     "data": {
      "image/png": "[encoded data removed]",
      "text/plain": [
       "<Figure size 432x288 with 1 Axes>"
      ]
     },
     "metadata": {
      "needs_background": "light"
     },
     "output_type": "display_data"
    }
   ],
   "source": [
    "ax = df.loc[:249].boxplot([\"Diameter\"])\n",
    "ax.set_title(\"Boxplot A1\")\n",
    "plt.show()"
   ]
  },
  {
   "cell_type": "code",
   "execution_count": 69,
   "metadata": {},
   "outputs": [
    {
     "data": {
      "image/png": "[encoded data removed]",
      "text/plain": [
       "<Figure size 432x288 with 1 Axes>"
      ]
     },
     "metadata": {
      "needs_background": "light"
     },
     "output_type": "display_data"
    }
   ],
   "source": [
    "ax = df.loc[250:].boxplot([\"Diameter\"])\n",
    "ax.set_title(\"Boxplot A2\")\n",
    "plt.show()"
   ]
  },
  {
   "cell_type": "markdown",
   "metadata": {},
   "source": [
    "Pertama ditentukan terlebih dahulu hipotesis nol $H_0$ sebagai berikut:\n",
    "\n",
    "$H_0$: $\\sigma^2_{A_1} = \\sigma^2_{A_2}$\n",
    "\n",
    "Hipotesis nol yang ditetapkan adalah variansi kolom Diameter bagian awal sama dengan variansi kolom Diameter bagian akhir.\n",
    "\n",
    "Selanjutnya ditentukan hipotesis alternatif $H_1$ sebagai berikut:\n",
    "\n",
    "$H_1$: $\\sigma^2_{A_1} \\neq \\sigma^2_{A_2}$\n",
    "\n",
    "Hipotesis alternatif yang ditetapkan adalah variansi kolom Diameter bagian awal tidak sama dengan variansi kolom Diameter bagian akhir. Hal ini berarti variansi $A_1$ dapat lebih besar atau lebih kecil dari variansi $A_2$.\n",
    "\n",
    "Tingkat signifikansi $\\alpha$ ditetapkan dengan:\n",
    "\n",
    "$\\alpha = 0.05$\n",
    "\n",
    "Tes statistik dilakukan dengan **F-distribution** atau disebut juga *Analysis of variance* (ANOVA). Daerah kritisnya diberikan sebagai berikut:\n",
    "$$ f < f_{1-\\alpha/2}(v_1, v_2) \\quad or \\quad f > f_{\\alpha/2}(v_1, v_2)$$ \n",
    "$v_1 = $ derajat kebebasan $A_1 = n_{A_1} - 1$ \n",
    "\n",
    "$v_2 = $ derajat kebebasan $A_2 = n_{A_2} - 1$\n",
    "\n",
    "Hitung $v_1$ dan $v_2$\n",
    "\n",
    "$n_{A_1} = 250$, $n_{A_2} = 250$\n",
    "\n",
    "$v_1 = v_2 = 250 - 1 = 249$\n",
    "\n",
    "Cari batasan daerah kritis dengan bantuan modul ```scipy.stats```:"
   ]
  },
  {
   "cell_type": "code",
   "execution_count": 70,
   "metadata": {},
   "outputs": [
    {
     "name": "stdout",
     "output_type": "stream",
     "text": [
      "Batas atas = 1.2827\n",
      "Batas bawah = 0.7796\n"
     ]
    }
   ],
   "source": [
    "from scipy.stats import f\n",
    "\n",
    "upper_bound = f.ppf(1-0.025, 249, 249) # f.ppf(1-alpha/2, v1, v2)\n",
    "lower_bound = f.ppf(0.025, 249, 249) # f.ppf(alpha/2, v1, v2)\n",
    "print(\"Batas atas =\", round(upper_bound, 4))\n",
    "print(\"Batas bawah =\", round(lower_bound, 4))"
   ]
  },
  {
   "cell_type": "markdown",
   "metadata": {},
   "source": [
    "Didapatkan daerah kritisnya adalah $ f < 0.7796 \\quad or \\quad f > 1.2827$\n",
    "\n",
    "Nilai $f$ harus berada di luar daerah kritis supaya $H_0$ diterima. Rumus $f$ diberikan sebagai berikut:\n",
    "$$ f = \\frac{S_2^2}{S_1^2}$$\n",
    "$S_1^2$ : variansi sampel $A_1$\n",
    "\n",
    "$S_2^2$ : variansi sampel $A_2$\n",
    "\n",
    "Lakukan komputasi untuk mencari nilai $S_1^2$, $S_2^2$, dan $f$"
   ]
  },
  {
   "cell_type": "code",
   "execution_count": 71,
   "metadata": {},
   "outputs": [
    {
     "name": "stdout",
     "output_type": "stream",
     "text": [
      "Variansi A1 = 43.169\n",
      "Variansi A2 = 39.8283\n",
      "Nilai f = 1.0839\n"
     ]
    }
   ],
   "source": [
    "var_1 = df[\"Diameter\"].loc[:249].var()\n",
    "var_2 = df[\"Diameter\"].loc[250:].var()\n",
    "f_val = var_1 / var_2\n",
    "print(\"Variansi A1 =\", round(var_1, 4))\n",
    "print(\"Variansi A2 =\", round(var_2, 4))\n",
    "print(\"Nilai f =\", round(f_val, 4))"
   ]
  },
  {
   "cell_type": "markdown",
   "metadata": {},
   "source": [
    "Didapat nilai f sebesar $1.0839$. Nilai $f$ berada di luar daerah kritis sehingga **\\$H_0$ diterima**. Oleh karena itu, dapat diambil kesimpulan **variansi kolom Diameter bagian awal sama dengan variansi kolom Diameter bagian akhir**."
   ]
  },
  {
   "cell_type": "markdown",
   "metadata": {},
   "source": [
    "# Nomor 6"
   ]
  },
  {
   "cell_type": "markdown",
   "metadata": {},
   "source": [
    "Test korelasi: tentukan apakah setiap kolom non-target berkorelasi dengan kolom target,\n",
    "dengan menggambarkan juga scatter plot nya. Gunakan correlation test."
   ]
  },
  {
   "cell_type": "markdown",
   "metadata": {},
   "source": [
    "Formula yang kami gunakan dalam menghitung koefisien korelasi ialah formula Pearson, yakni dalam menghitung koefisien korelasi dua kolom yang dimisalkan dalam array x dan y ialah:\n",
    "$$ r = \\frac{\\sigma_{xy}}{\\sigma_x \\sigma_y} = \\frac{n\\sum xy - (\\sum x)(\\sum y)}{\\sqrt{(n\\sum x^2 - (\\sum x)^2)(n\\sum y^2 - (\\sum y)^2)}}$$ \n",
    "Sedangkan tes signifikansi yang kami gunakan ialah karena n sudah bernilai cukup besar yakni 500, data dalam kolom dapat diasumsikan sebagai populasi sehingga dapat kami klasifikasikan sebuah koefisien korelasi sebagai tidak signifikan bila berada dalam range (-0.5, 0.5), dan signifikan bila tidak berada dalam range tersebut."
   ]
  },
  {
   "cell_type": "markdown",
   "metadata": {},
   "source": [
    "### id"
   ]
  },
  {
   "cell_type": "code",
   "execution_count": 74,
   "metadata": {},
   "outputs": [
    {
     "name": "stdout",
     "output_type": "stream",
     "text": [
      "Cor: 0.8660202075956419\n"
     ]
    },
    {
     "data": {
      "image/png": "[encoded data removed]",
      "text/plain": [
       "<Figure size 432x288 with 1 Axes>"
      ]
     },
     "metadata": {
      "needs_background": "light"
     },
     "output_type": "display_data"
    }
   ],
   "source": [
    "sns.regplot(df[df.columns[0]], df[\"Kelas\"])\n",
    "print(\"Cor: \" + str(df[df.columns[0]].corr(df['Kelas'])))"
   ]
  },
  {
   "cell_type": "markdown",
   "metadata": {},
   "source": [
    "Korelasi bernilai positif menandakan kedua kolom berbanding lurus, divisualisasikan dengan gradien positif dari hasil regresi scatter plotnya. Korelasi tidak berada dalam range (-0.5, 0.5) menandakan kedua kolom memiliki ketergantungan yang tidak lemah, divisualisasikan dengan ketidakpastian garis regresi (daerah biru muda di sekitarnya) kecil."
   ]
  },
  {
   "cell_type": "markdown",
   "metadata": {},
   "source": [
    "### Daerah"
   ]
  },
  {
   "cell_type": "code",
   "execution_count": 75,
   "metadata": {},
   "outputs": [
    {
     "name": "stdout",
     "output_type": "stream",
     "text": [
      "Cor: -0.6027466517416654\n"
     ]
    },
    {
     "data": {
      "image/png": "[encoded data removed]",
      "text/plain": [
       "<Figure size 432x288 with 1 Axes>"
      ]
     },
     "metadata": {
      "needs_background": "light"
     },
     "output_type": "display_data"
    }
   ],
   "source": [
    "sns.regplot(df[df.columns[1]], df[\"Kelas\"])\n",
    "print(\"Cor: \" + str(df[df.columns[1]].corr(df['Kelas'])))"
   ]
  },
  {
   "cell_type": "markdown",
   "metadata": {},
   "source": [
    "Korelasi bernilai negatif menandakan kedua kolom berbanding terbalik, divisualisasikan dengan gradien negatif dari hasil regresi scatter plotnya. Korelasi tidak berada dalam range (-0.5, 0.5) menandakan kedua kolom memiliki ketergantungan yang tidak lemah, divisualisasikan dengan ketidakpastian garis regresi (daerah biru muda di sekitarnya) kecil."
   ]
  },
  {
   "cell_type": "markdown",
   "metadata": {},
   "source": [
    "### SumbuUtama"
   ]
  },
  {
   "cell_type": "code",
   "execution_count": 76,
   "metadata": {},
   "outputs": [
    {
     "name": "stdout",
     "output_type": "stream",
     "text": [
      "Cor: -0.7130906104204592\n"
     ]
    },
    {
     "data": {
      "image/png": "[encoded data removed]",
      "text/plain": [
       "<Figure size 432x288 with 1 Axes>"
      ]
     },
     "metadata": {
      "needs_background": "light"
     },
     "output_type": "display_data"
    }
   ],
   "source": [
    "sns.regplot(df[df.columns[2]], df[\"Kelas\"])\n",
    "print(\"Cor: \" + str(df[df.columns[2]].corr(df['Kelas'])))"
   ]
  },
  {
   "cell_type": "markdown",
   "metadata": {},
   "source": [
    "Korelasi bernilai negatif menandakan kedua kolom berbanding terbalik, divisualisasikan dengan gradien negatif dari hasil regresi scatter plotnya. Korelasi tidak berada dalam range (-0.5, 0.5) menandakan kedua kolom memiliki ketergantungan yang tidak lemah, divisualisasikan dengan ketidakpastian garis regresi (daerah biru muda di sekitarnya) kecil."
   ]
  },
  {
   "cell_type": "markdown",
   "metadata": {},
   "source": [
    "### SumbuKecil"
   ]
  },
  {
   "cell_type": "code",
   "execution_count": 77,
   "metadata": {},
   "outputs": [
    {
     "name": "stdout",
     "output_type": "stream",
     "text": [
      "Cor: -0.15297517335535024\n"
     ]
    },
    {
     "data": {
      "image/png": "[encoded data removed]",
      "text/plain": [
       "<Figure size 432x288 with 1 Axes>"
      ]
     },
     "metadata": {
      "needs_background": "light"
     },
     "output_type": "display_data"
    }
   ],
   "source": [
    "sns.regplot(df[df.columns[3]], df[\"Kelas\"])\n",
    "print(\"Cor: \" + str(df[df.columns[3]].corr(df['Kelas'])))"
   ]
  },
  {
   "cell_type": "markdown",
   "metadata": {},
   "source": [
    "Korelasi bernilai negatif menandakan kedua kolom berbanding terbalik, divisualisasikan dengan gradien negatif dari hasil regresi scatter plotnya. \n",
    "Korelasi berada dalam range (-0.5, 0.5) menandakan kedua kolom memiliki ketergantungan yang lemah, divisualisasikan dengan ketidakpastian garis regresi (daerah biru muda di sekitarnya) besar."
   ]
  },
  {
   "cell_type": "markdown",
   "metadata": {},
   "source": [
    "### Keunikan"
   ]
  },
  {
   "cell_type": "code",
   "execution_count": 78,
   "metadata": {},
   "outputs": [
    {
     "name": "stdout",
     "output_type": "stream",
     "text": [
      "Cor: -0.7304563686511927\n"
     ]
    },
    {
     "data": {
      "image/png": "[encoded data removed]",
      "text/plain": [
       "<Figure size 432x288 with 1 Axes>"
      ]
     },
     "metadata": {
      "needs_background": "light"
     },
     "output_type": "display_data"
    }
   ],
   "source": [
    "sns.regplot(df[df.columns[4]], df[\"Kelas\"])\n",
    "print(\"Cor: \" + str(df[df.columns[4]].corr(df['Kelas'])))"
   ]
  },
  {
   "cell_type": "markdown",
   "metadata": {},
   "source": [
    "Korelasi bernilai negatif menandakan kedua kolom berbanding terbalik, divisualisasikan dengan gradien negatif dari hasil regresi scatter plotnya. Korelasi tidak berada dalam range (-0.5, 0.5) menandakan kedua kolom memiliki ketergantungan yang tidak lemah, divisualisasikan dengan ketidakpastian garis regresi (daerah biru muda di sekitarnya) kecil."
   ]
  },
  {
   "cell_type": "markdown",
   "metadata": {},
   "source": [
    "### AreaBulatan"
   ]
  },
  {
   "cell_type": "code",
   "execution_count": 79,
   "metadata": {},
   "outputs": [
    {
     "name": "stdout",
     "output_type": "stream",
     "text": [
      "Cor: -0.6073125434153747\n"
     ]
    },
    {
     "data": {
      "image/png": "[encoded data removed]",
      "text/plain": [
       "<Figure size 432x288 with 1 Axes>"
      ]
     },
     "metadata": {
      "needs_background": "light"
     },
     "output_type": "display_data"
    }
   ],
   "source": [
    "sns.regplot(df[df.columns[5]], df[\"Kelas\"])\n",
    "print(\"Cor: \" + str(df[df.columns[5]].corr(df['Kelas'])))"
   ]
  },
  {
   "cell_type": "markdown",
   "metadata": {},
   "source": [
    "Korelasi bernilai negatif menandakan kedua kolom berbanding terbalik, divisualisasikan dengan gradien negatif dari hasil regresi scatter plotnya. Korelasi tidak berada dalam range (-0.5, 0.5) menandakan kedua kolom memiliki ketergantungan yang tidak lemah, divisualisasikan dengan ketidakpastian garis regresi (daerah biru muda di sekitarnya) kecil."
   ]
  },
  {
   "cell_type": "markdown",
   "metadata": {},
   "source": [
    "### Diameter"
   ]
  },
  {
   "cell_type": "code",
   "execution_count": 80,
   "metadata": {},
   "outputs": [
    {
     "name": "stdout",
     "output_type": "stream",
     "text": [
      "Cor: -0.6025356896618811\n"
     ]
    },
    {
     "data": {
      "image/png": "[encoded data removed]",
      "text/plain": [
       "<Figure size 432x288 with 1 Axes>"
      ]
     },
     "metadata": {
      "needs_background": "light"
     },
     "output_type": "display_data"
    }
   ],
   "source": [
    "sns.regplot(df[df.columns[6]], df[\"Kelas\"])\n",
    "print(\"Cor: \" + str(df[df.columns[6]].corr(df['Kelas'])))"
   ]
  },
  {
   "cell_type": "markdown",
   "metadata": {},
   "source": [
    "Korelasi bernilai negatif menandakan kedua kolom berbanding terbalik, divisualisasikan dengan gradien negatif dari hasil regresi scatter plotnya. Korelasi tidak berada dalam range (-0.5, 0.5) menandakan kedua kolom memiliki ketergantungan yang tidak lemah, divisualisasikan dengan ketidakpastian garis regresi (daerah biru muda di sekitarnya) kecil."
   ]
  },
  {
   "cell_type": "markdown",
   "metadata": {},
   "source": [
    "### KadarAir"
   ]
  },
  {
   "cell_type": "code",
   "execution_count": 82,
   "metadata": {},
   "outputs": [
    {
     "name": "stdout",
     "output_type": "stream",
     "text": [
      "Cor: 0.13434422605727642\n"
     ]
    },
    {
     "data": {
      "image/png": "[encoded data removed]",
      "text/plain": [
       "<Figure size 432x288 with 1 Axes>"
      ]
     },
     "metadata": {
      "needs_background": "light"
     },
     "output_type": "display_data"
    }
   ],
   "source": [
    "sns.regplot(df[df.columns[7]], df[\"Kelas\"])\n",
    "print(\"Cor: \" + str(df[df.columns[7]].corr(df['Kelas'])))"
   ]
  },
  {
   "cell_type": "markdown",
   "metadata": {},
   "source": [
    "Korelasi bernilai positif menandakan kedua kolom berbanding lurus, divisualisasikan dengan gradien positif dari hasil regresi scatter plotnya. \n",
    "Korelasi berada dalam range (-0.5, 0.5) menandakan kedua kolom memiliki ketergantungan yang lemah, divisualisasikan dengan ketidakpastian garis regresi (daerah biru muda di sekitarnya) besar."
   ]
  },
  {
   "cell_type": "markdown",
   "metadata": {},
   "source": [
    "### Keliling"
   ]
  },
  {
   "cell_type": "code",
   "execution_count": 83,
   "metadata": {},
   "outputs": [
    {
     "name": "stdout",
     "output_type": "stream",
     "text": [
      "Cor: -0.6348607454756853\n"
     ]
    },
    {
     "data": {
      "image/png": "[encoded data removed]",
      "text/plain": [
       "<Figure size 432x288 with 1 Axes>"
      ]
     },
     "metadata": {
      "needs_background": "light"
     },
     "output_type": "display_data"
    }
   ],
   "source": [
    "sns.regplot(df[df.columns[8]], df[\"Kelas\"])\n",
    "print(\"Cor: \" + str(df[df.columns[8]].corr(df['Kelas'])))"
   ]
  },
  {
   "cell_type": "markdown",
   "metadata": {},
   "source": [
    "Korelasi bernilai negatif menandakan kedua kolom berbanding terbalik, divisualisasikan dengan gradien negatif dari hasil regresi scatter plotnya. \n",
    "Korelasi tidak berada dalam range (-0.5, 0.5) menandakan kedua kolom memiliki ketergantungan yang tidak lemah, divisualisasikan dengan ketidakpastian garis regresi (daerah biru muda di sekitarnya) kecil."
   ]
  },
  {
   "cell_type": "markdown",
   "metadata": {},
   "source": [
    "### Bulatan"
   ]
  },
  {
   "cell_type": "code",
   "execution_count": 84,
   "metadata": {},
   "outputs": [
    {
     "name": "stdout",
     "output_type": "stream",
     "text": [
      "Cor: 0.5450045317240073\n"
     ]
    },
    {
     "data": {
      "image/png": "[encoded data removed]",
      "text/plain": [
       "<Figure size 432x288 with 1 Axes>"
      ]
     },
     "metadata": {
      "needs_background": "light"
     },
     "output_type": "display_data"
    }
   ],
   "source": [
    "sns.regplot(df[df.columns[9]], df[\"Kelas\"])\n",
    "print(\"Cor: \" + str(df[df.columns[9]].corr(df['Kelas'])))"
   ]
  },
  {
   "cell_type": "markdown",
   "metadata": {},
   "source": [
    "Korelasi bernilai positif menandakan kedua kolom berbanding lurus, divisualisasikan dengan gradien positif dari hasil regresi scatter plotnya.\n",
    "Korelasi tidak berada dalam range (-0.5, 0.5) menandakan kedua kolom memiliki ketergantungan yang tidak lemah, divisualisasikan dengan ketidakpastian garis regresi (daerah biru muda di sekitarnya) kecil."
   ]
  },
  {
   "cell_type": "markdown",
   "metadata": {},
   "source": [
    "### Ransum"
   ]
  },
  {
   "cell_type": "code",
   "execution_count": 85,
   "metadata": {},
   "outputs": [
    {
     "name": "stdout",
     "output_type": "stream",
     "text": [
      "Cor: -0.8399038681287486\n"
     ]
    },
    {
     "data": {
      "image/png": "[encoded data removed]",
      "text/plain": [
       "<Figure size 432x288 with 1 Axes>"
      ]
     },
     "metadata": {
      "needs_background": "light"
     },
     "output_type": "display_data"
    }
   ],
   "source": [
    "sns.regplot(df[df.columns[10]], df[\"Kelas\"])\n",
    "print(\"Cor: \" + str(df[df.columns[10]].corr(df['Kelas'])))"
   ]
  },
  {
   "cell_type": "markdown",
   "metadata": {},
   "source": [
    "Korelasi bernilai negatif menandakan kedua kolom berbanding terbalik, divisualisasikan dengan gradien negatif dari hasil regresi scatter plotnya.\n",
    "Korelasi tidak berada dalam range (-0.5, 0.5) menandakan kedua kolom memiliki ketergantungan yang tidak lemah, divisualisasikan dengan ketidakpastian garis regresi (daerah biru muda di sekitarnya) kecil."
   ]
  },
  {
   "cell_type": "markdown",
   "metadata": {},
   "source": [
    "# Referensi"
   ]
  },
  {
   "cell_type": "markdown",
   "metadata": {},
   "source": [
    "* Pandas - https://pandas.pydata.org/\n",
    "* Matplotlib - https://matplotlib.org/\n",
    "* seaborn - https://seaborn.pydata.org/\n",
    "* SciPy - https://www.scipy.org/\n",
    "* Ye, K., Myers, S., Myers, R. and Walpole, R., 2012. Probability & statistics for engineers & scientists. 9th ed. Boston: Pearson Education."
   ]
  },
  {
   "cell_type": "code",
   "execution_count": null,
   "metadata": {},
   "outputs": [],
   "source": []
  }
 ],
 "metadata": {
  "kernelspec": {
   "display_name": "Python 3",
   "language": "python",
   "name": "python3"
  },
  "language_info": {
   "codemirror_mode": {
    "name": "ipython",
    "version": 3
   },
   "file_extension": ".py",
   "mimetype": "text/x-python",
   "name": "python",
   "nbconvert_exporter": "python",
   "pygments_lexer": "ipython3",
   "version": "3.7.6"
  },
  "varInspector": {
   "cols": {
    "lenName": 16,
    "lenType": 16,
    "lenVar": 40
   },
   "kernels_config": {
    "python": {
     "delete_cmd_postfix": "",
     "delete_cmd_prefix": "del ",
     "library": "var_list.py",
     "varRefreshCmd": "print(var_dic_list())"
    },
    "r": {
     "delete_cmd_postfix": ") ",
     "delete_cmd_prefix": "rm(",
     "library": "var_list.r",
     "varRefreshCmd": "cat(var_dic_list()) "
    }
   },
   "types_to_exclude": [
    "module",
    "function",
    "builtin_function_or_method",
    "instance",
    "_Feature"
   ],
   "window_display": false
  }
 },
 "nbformat": 4,
 "nbformat_minor": 4
}
