{
 "cells": [
  {
   "cell_type": "markdown",
   "metadata": {},
   "source": [
    "Pertama-tama, data dari file CSV dimuat menggunakan pandas. Load CSV disertai argumen ```names``` untuk memberikan nama ke masing-masing kolom sesuai spesifikasi."
   ]
  },
  {
   "cell_type": "code",
   "execution_count": 38,
   "metadata": {},
   "outputs": [
    {
     "data": {
      "text/html": [
       "<div>\n",
       "<style scoped>\n",
       "    .dataframe tbody tr th:only-of-type {\n",
       "        vertical-align: middle;\n",
       "    }\n",
       "\n",
       "    .dataframe tbody tr th {\n",
       "        vertical-align: top;\n",
       "    }\n",
       "\n",
       "    .dataframe thead th {\n",
       "        text-align: right;\n",
       "    }\n",
       "</style>\n",
       "<table border=\"1\" class=\"dataframe\">\n",
       "  <thead>\n",
       "    <tr style=\"text-align: right;\">\n",
       "      <th></th>\n",
       "      <th>id</th>\n",
       "      <th>Daerah</th>\n",
       "      <th>SumbuUtama</th>\n",
       "      <th>SumbuKecil</th>\n",
       "      <th>Keunikan</th>\n",
       "      <th>AreaBulatan</th>\n",
       "      <th>Diameter</th>\n",
       "      <th>KadarAir</th>\n",
       "      <th>Keliling</th>\n",
       "      <th>Bulatan</th>\n",
       "      <th>Ransum</th>\n",
       "      <th>Kelas</th>\n",
       "    </tr>\n",
       "  </thead>\n",
       "  <tbody>\n",
       "    <tr>\n",
       "      <th>0</th>\n",
       "      <td>1</td>\n",
       "      <td>5781</td>\n",
       "      <td>128.288875</td>\n",
       "      <td>58.470846</td>\n",
       "      <td>0.890095</td>\n",
       "      <td>5954</td>\n",
       "      <td>85.793926</td>\n",
       "      <td>0.674090</td>\n",
       "      <td>316.756</td>\n",
       "      <td>0.724041</td>\n",
       "      <td>2.194066</td>\n",
       "      <td>1</td>\n",
       "    </tr>\n",
       "    <tr>\n",
       "      <th>1</th>\n",
       "      <td>2</td>\n",
       "      <td>4176</td>\n",
       "      <td>109.348294</td>\n",
       "      <td>49.837688</td>\n",
       "      <td>0.890098</td>\n",
       "      <td>4277</td>\n",
       "      <td>72.918093</td>\n",
       "      <td>0.596231</td>\n",
       "      <td>260.346</td>\n",
       "      <td>0.774227</td>\n",
       "      <td>2.194088</td>\n",
       "      <td>1</td>\n",
       "    </tr>\n",
       "    <tr>\n",
       "      <th>2</th>\n",
       "      <td>3</td>\n",
       "      <td>4555</td>\n",
       "      <td>114.427991</td>\n",
       "      <td>52.151207</td>\n",
       "      <td>0.890105</td>\n",
       "      <td>4706</td>\n",
       "      <td>76.155145</td>\n",
       "      <td>0.776641</td>\n",
       "      <td>279.606</td>\n",
       "      <td>0.732159</td>\n",
       "      <td>2.194158</td>\n",
       "      <td>1</td>\n",
       "    </tr>\n",
       "    <tr>\n",
       "      <th>3</th>\n",
       "      <td>4</td>\n",
       "      <td>4141</td>\n",
       "      <td>108.701191</td>\n",
       "      <td>49.457349</td>\n",
       "      <td>0.890499</td>\n",
       "      <td>4236</td>\n",
       "      <td>72.611879</td>\n",
       "      <td>0.633180</td>\n",
       "      <td>260.478</td>\n",
       "      <td>0.766960</td>\n",
       "      <td>2.197877</td>\n",
       "      <td>1</td>\n",
       "    </tr>\n",
       "    <tr>\n",
       "      <th>4</th>\n",
       "      <td>5</td>\n",
       "      <td>5273</td>\n",
       "      <td>122.747869</td>\n",
       "      <td>55.757848</td>\n",
       "      <td>0.890876</td>\n",
       "      <td>5431</td>\n",
       "      <td>81.937733</td>\n",
       "      <td>0.669842</td>\n",
       "      <td>302.730</td>\n",
       "      <td>0.723031</td>\n",
       "      <td>2.201446</td>\n",
       "      <td>1</td>\n",
       "    </tr>\n",
       "    <tr>\n",
       "      <th>...</th>\n",
       "      <td>...</td>\n",
       "      <td>...</td>\n",
       "      <td>...</td>\n",
       "      <td>...</td>\n",
       "      <td>...</td>\n",
       "      <td>...</td>\n",
       "      <td>...</td>\n",
       "      <td>...</td>\n",
       "      <td>...</td>\n",
       "      <td>...</td>\n",
       "      <td>...</td>\n",
       "      <td>...</td>\n",
       "    </tr>\n",
       "    <tr>\n",
       "      <th>495</th>\n",
       "      <td>496</td>\n",
       "      <td>5083</td>\n",
       "      <td>120.083450</td>\n",
       "      <td>54.821580</td>\n",
       "      <td>0.889709</td>\n",
       "      <td>5179</td>\n",
       "      <td>80.447975</td>\n",
       "      <td>0.534827</td>\n",
       "      <td>286.377</td>\n",
       "      <td>0.778850</td>\n",
       "      <td>2.190441</td>\n",
       "      <td>2</td>\n",
       "    </tr>\n",
       "    <tr>\n",
       "      <th>496</th>\n",
       "      <td>497</td>\n",
       "      <td>4432</td>\n",
       "      <td>112.367050</td>\n",
       "      <td>51.294914</td>\n",
       "      <td>0.889726</td>\n",
       "      <td>4550</td>\n",
       "      <td>75.119889</td>\n",
       "      <td>0.601194</td>\n",
       "      <td>270.823</td>\n",
       "      <td>0.759344</td>\n",
       "      <td>2.190608</td>\n",
       "      <td>2</td>\n",
       "    </tr>\n",
       "    <tr>\n",
       "      <th>497</th>\n",
       "      <td>498</td>\n",
       "      <td>5020</td>\n",
       "      <td>119.873742</td>\n",
       "      <td>54.718545</td>\n",
       "      <td>0.889740</td>\n",
       "      <td>5104</td>\n",
       "      <td>79.947874</td>\n",
       "      <td>0.528421</td>\n",
       "      <td>285.799</td>\n",
       "      <td>0.772311</td>\n",
       "      <td>2.190733</td>\n",
       "      <td>2</td>\n",
       "    </tr>\n",
       "    <tr>\n",
       "      <th>498</th>\n",
       "      <td>499</td>\n",
       "      <td>4035</td>\n",
       "      <td>107.311728</td>\n",
       "      <td>48.930802</td>\n",
       "      <td>0.889996</td>\n",
       "      <td>4150</td>\n",
       "      <td>71.676506</td>\n",
       "      <td>0.584698</td>\n",
       "      <td>258.503</td>\n",
       "      <td>0.758791</td>\n",
       "      <td>2.193132</td>\n",
       "      <td>2</td>\n",
       "    </tr>\n",
       "    <tr>\n",
       "      <th>499</th>\n",
       "      <td>500</td>\n",
       "      <td>3379</td>\n",
       "      <td>99.014789</td>\n",
       "      <td>44.631551</td>\n",
       "      <td>0.892647</td>\n",
       "      <td>3491</td>\n",
       "      <td>65.591741</td>\n",
       "      <td>0.653578</td>\n",
       "      <td>237.593</td>\n",
       "      <td>0.752196</td>\n",
       "      <td>2.218493</td>\n",
       "      <td>2</td>\n",
       "    </tr>\n",
       "  </tbody>\n",
       "</table>\n",
       "<p>500 rows × 12 columns</p>\n",
       "</div>"
      ],
      "text/plain": [
       "      id  Daerah  SumbuUtama  SumbuKecil  Keunikan  AreaBulatan   Diameter  \\\n",
       "0      1    5781  128.288875   58.470846  0.890095         5954  85.793926   \n",
       "1      2    4176  109.348294   49.837688  0.890098         4277  72.918093   \n",
       "2      3    4555  114.427991   52.151207  0.890105         4706  76.155145   \n",
       "3      4    4141  108.701191   49.457349  0.890499         4236  72.611879   \n",
       "4      5    5273  122.747869   55.757848  0.890876         5431  81.937733   \n",
       "..   ...     ...         ...         ...       ...          ...        ...   \n",
       "495  496    5083  120.083450   54.821580  0.889709         5179  80.447975   \n",
       "496  497    4432  112.367050   51.294914  0.889726         4550  75.119889   \n",
       "497  498    5020  119.873742   54.718545  0.889740         5104  79.947874   \n",
       "498  499    4035  107.311728   48.930802  0.889996         4150  71.676506   \n",
       "499  500    3379   99.014789   44.631551  0.892647         3491  65.591741   \n",
       "\n",
       "     KadarAir  Keliling   Bulatan    Ransum  Kelas  \n",
       "0    0.674090   316.756  0.724041  2.194066      1  \n",
       "1    0.596231   260.346  0.774227  2.194088      1  \n",
       "2    0.776641   279.606  0.732159  2.194158      1  \n",
       "3    0.633180   260.478  0.766960  2.197877      1  \n",
       "4    0.669842   302.730  0.723031  2.201446      1  \n",
       "..        ...       ...       ...       ...    ...  \n",
       "495  0.534827   286.377  0.778850  2.190441      2  \n",
       "496  0.601194   270.823  0.759344  2.190608      2  \n",
       "497  0.528421   285.799  0.772311  2.190733      2  \n",
       "498  0.584698   258.503  0.758791  2.193132      2  \n",
       "499  0.653578   237.593  0.752196  2.218493      2  \n",
       "\n",
       "[500 rows x 12 columns]"
      ]
     },
     "execution_count": 38,
     "metadata": {},
     "output_type": "execute_result"
    }
   ],
   "source": [
    "import pandas as pd\n",
    "import numpy as np\n",
    "from scipy.stats import iqr, normaltest\n",
    "import matplotlib.pyplot as plt\n",
    "import seaborn as sns\n",
    "%matplotlib inline\n",
    "\n",
    "df = pd.read_csv(\"Gandum.csv\", names=[\"id\", \"Daerah\", \"SumbuUtama\", \"SumbuKecil\", \"Keunikan\", \"AreaBulatan\", \"Diameter\", \"KadarAir\", \"Keliling\", \"Bulatan\", \"Ransum\", \"Kelas\"])\n",
    "df"
   ]
  },
  {
   "cell_type": "markdown",
   "metadata": {},
   "source": [
    "Terdapat 500 baris dan 12 kolom yang menandakan jumlah data (n) sebanyak 500 dan jumlah kolom data sebanyak 12.\n",
    "\n",
    "Selanjutnya, tipe data masing-masing kolom akan dicek untuk menentukan kolom mana saja yang numerik."
   ]
  },
  {
   "cell_type": "code",
   "execution_count": 39,
   "metadata": {},
   "outputs": [
    {
     "data": {
      "text/plain": [
       "id               int64\n",
       "Daerah           int64\n",
       "SumbuUtama     float64\n",
       "SumbuKecil     float64\n",
       "Keunikan       float64\n",
       "AreaBulatan      int64\n",
       "Diameter       float64\n",
       "KadarAir       float64\n",
       "Keliling       float64\n",
       "Bulatan        float64\n",
       "Ransum         float64\n",
       "Kelas            int64\n",
       "dtype: object"
      ]
     },
     "execution_count": 39,
     "metadata": {},
     "output_type": "execute_result"
    }
   ],
   "source": [
    "df.dtypes"
   ]
  },
  {
   "cell_type": "markdown",
   "metadata": {},
   "source": [
    "Diketahui tipe data seluruh kolom adalah numerik (int64 atau float64). Oleh karena itu, dapat dilakukan deskripsi statistika di seluruh kolom data.\n",
    "\n",
    "Sebelum ke deskripsi, akan dicek terlebih dahulu keberadaan missing values (NaN) pada data."
   ]
  },
  {
   "cell_type": "code",
   "execution_count": 40,
   "metadata": {},
   "outputs": [
    {
     "data": {
      "text/plain": [
       "id             0\n",
       "Daerah         0\n",
       "SumbuUtama     0\n",
       "SumbuKecil     0\n",
       "Keunikan       0\n",
       "AreaBulatan    0\n",
       "Diameter       0\n",
       "KadarAir       0\n",
       "Keliling       0\n",
       "Bulatan        0\n",
       "Ransum         0\n",
       "Kelas          0\n",
       "dtype: int64"
      ]
     },
     "execution_count": 40,
     "metadata": {},
     "output_type": "execute_result"
    }
   ],
   "source": [
    "df.isnull().sum()"
   ]
  },
  {
   "cell_type": "markdown",
   "metadata": {},
   "source": [
    "Tidak terdapat missing values pada data. Oleh karena itu tidak perlu dilakukan penanganan khusus bagi data NaN."
   ]
  },
  {
   "cell_type": "markdown",
   "metadata": {},
   "source": [
    "# Nomor 1"
   ]
  },
  {
   "cell_type": "markdown",
   "metadata": {},
   "source": [
    "Menulis deskripsi statistika dari semua kolom pada data yang bersifat numerik, terdiri dari mean, median, modus, standar deviasi, variansi, range, nilai minimum, maksimum, kuartil, IQR, skewness dan kurtosis."
   ]
  },
  {
   "cell_type": "markdown",
   "metadata": {},
   "source": [
    "Gambaran umum data dapat dicari dengan method ```describe```"
   ]
  },
  {
   "cell_type": "code",
   "execution_count": 41,
   "metadata": {},
   "outputs": [
    {
     "data": {
      "text/html": [
       "<div>\n",
       "<style scoped>\n",
       "    .dataframe tbody tr th:only-of-type {\n",
       "        vertical-align: middle;\n",
       "    }\n",
       "\n",
       "    .dataframe tbody tr th {\n",
       "        vertical-align: top;\n",
       "    }\n",
       "\n",
       "    .dataframe thead th {\n",
       "        text-align: right;\n",
       "    }\n",
       "</style>\n",
       "<table border=\"1\" class=\"dataframe\">\n",
       "  <thead>\n",
       "    <tr style=\"text-align: right;\">\n",
       "      <th></th>\n",
       "      <th>id</th>\n",
       "      <th>Daerah</th>\n",
       "      <th>SumbuUtama</th>\n",
       "      <th>SumbuKecil</th>\n",
       "      <th>Keunikan</th>\n",
       "      <th>AreaBulatan</th>\n",
       "      <th>Diameter</th>\n",
       "      <th>KadarAir</th>\n",
       "      <th>Keliling</th>\n",
       "      <th>Bulatan</th>\n",
       "      <th>Ransum</th>\n",
       "      <th>Kelas</th>\n",
       "    </tr>\n",
       "  </thead>\n",
       "  <tbody>\n",
       "    <tr>\n",
       "      <th>count</th>\n",
       "      <td>500.000000</td>\n",
       "      <td>500.000000</td>\n",
       "      <td>500.000000</td>\n",
       "      <td>500.000000</td>\n",
       "      <td>500.000000</td>\n",
       "      <td>500.000000</td>\n",
       "      <td>500.000000</td>\n",
       "      <td>500.000000</td>\n",
       "      <td>500.000000</td>\n",
       "      <td>500.000000</td>\n",
       "      <td>500.000000</td>\n",
       "      <td>500.000000</td>\n",
       "    </tr>\n",
       "    <tr>\n",
       "      <th>mean</th>\n",
       "      <td>250.500000</td>\n",
       "      <td>4801.246000</td>\n",
       "      <td>116.045171</td>\n",
       "      <td>53.715246</td>\n",
       "      <td>0.878764</td>\n",
       "      <td>4937.048000</td>\n",
       "      <td>77.771158</td>\n",
       "      <td>0.648372</td>\n",
       "      <td>281.479722</td>\n",
       "      <td>0.761737</td>\n",
       "      <td>2.150915</td>\n",
       "      <td>1.502000</td>\n",
       "    </tr>\n",
       "    <tr>\n",
       "      <th>std</th>\n",
       "      <td>144.481833</td>\n",
       "      <td>986.395491</td>\n",
       "      <td>18.282626</td>\n",
       "      <td>4.071075</td>\n",
       "      <td>0.036586</td>\n",
       "      <td>1011.696255</td>\n",
       "      <td>8.056867</td>\n",
       "      <td>0.094367</td>\n",
       "      <td>37.335402</td>\n",
       "      <td>0.061702</td>\n",
       "      <td>0.249767</td>\n",
       "      <td>0.500497</td>\n",
       "    </tr>\n",
       "    <tr>\n",
       "      <th>min</th>\n",
       "      <td>1.000000</td>\n",
       "      <td>2522.000000</td>\n",
       "      <td>74.133114</td>\n",
       "      <td>39.906517</td>\n",
       "      <td>0.719916</td>\n",
       "      <td>2579.000000</td>\n",
       "      <td>56.666658</td>\n",
       "      <td>0.409927</td>\n",
       "      <td>197.015000</td>\n",
       "      <td>0.174590</td>\n",
       "      <td>1.440796</td>\n",
       "      <td>1.000000</td>\n",
       "    </tr>\n",
       "    <tr>\n",
       "      <th>25%</th>\n",
       "      <td>125.750000</td>\n",
       "      <td>4042.750000</td>\n",
       "      <td>104.116098</td>\n",
       "      <td>51.193576</td>\n",
       "      <td>0.863676</td>\n",
       "      <td>4170.250000</td>\n",
       "      <td>71.745308</td>\n",
       "      <td>0.572632</td>\n",
       "      <td>255.883000</td>\n",
       "      <td>0.731991</td>\n",
       "      <td>1.983939</td>\n",
       "      <td>1.000000</td>\n",
       "    </tr>\n",
       "    <tr>\n",
       "      <th>50%</th>\n",
       "      <td>250.500000</td>\n",
       "      <td>4735.000000</td>\n",
       "      <td>115.405140</td>\n",
       "      <td>53.731199</td>\n",
       "      <td>0.890045</td>\n",
       "      <td>4857.000000</td>\n",
       "      <td>77.645277</td>\n",
       "      <td>0.626117</td>\n",
       "      <td>280.045500</td>\n",
       "      <td>0.761288</td>\n",
       "      <td>2.193599</td>\n",
       "      <td>2.000000</td>\n",
       "    </tr>\n",
       "    <tr>\n",
       "      <th>75%</th>\n",
       "      <td>375.250000</td>\n",
       "      <td>5495.500000</td>\n",
       "      <td>129.046792</td>\n",
       "      <td>56.325158</td>\n",
       "      <td>0.907578</td>\n",
       "      <td>5654.250000</td>\n",
       "      <td>83.648598</td>\n",
       "      <td>0.726633</td>\n",
       "      <td>306.062500</td>\n",
       "      <td>0.796361</td>\n",
       "      <td>2.381612</td>\n",
       "      <td>2.000000</td>\n",
       "    </tr>\n",
       "    <tr>\n",
       "      <th>max</th>\n",
       "      <td>500.000000</td>\n",
       "      <td>7453.000000</td>\n",
       "      <td>227.928583</td>\n",
       "      <td>68.977700</td>\n",
       "      <td>0.914001</td>\n",
       "      <td>7720.000000</td>\n",
       "      <td>97.413830</td>\n",
       "      <td>0.878899</td>\n",
       "      <td>488.837000</td>\n",
       "      <td>0.904748</td>\n",
       "      <td>2.464809</td>\n",
       "      <td>2.000000</td>\n",
       "    </tr>\n",
       "  </tbody>\n",
       "</table>\n",
       "</div>"
      ],
      "text/plain": [
       "               id       Daerah  SumbuUtama  SumbuKecil    Keunikan  \\\n",
       "count  500.000000   500.000000  500.000000  500.000000  500.000000   \n",
       "mean   250.500000  4801.246000  116.045171   53.715246    0.878764   \n",
       "std    144.481833   986.395491   18.282626    4.071075    0.036586   \n",
       "min      1.000000  2522.000000   74.133114   39.906517    0.719916   \n",
       "25%    125.750000  4042.750000  104.116098   51.193576    0.863676   \n",
       "50%    250.500000  4735.000000  115.405140   53.731199    0.890045   \n",
       "75%    375.250000  5495.500000  129.046792   56.325158    0.907578   \n",
       "max    500.000000  7453.000000  227.928583   68.977700    0.914001   \n",
       "\n",
       "       AreaBulatan    Diameter    KadarAir    Keliling     Bulatan  \\\n",
       "count   500.000000  500.000000  500.000000  500.000000  500.000000   \n",
       "mean   4937.048000   77.771158    0.648372  281.479722    0.761737   \n",
       "std    1011.696255    8.056867    0.094367   37.335402    0.061702   \n",
       "min    2579.000000   56.666658    0.409927  197.015000    0.174590   \n",
       "25%    4170.250000   71.745308    0.572632  255.883000    0.731991   \n",
       "50%    4857.000000   77.645277    0.626117  280.045500    0.761288   \n",
       "75%    5654.250000   83.648598    0.726633  306.062500    0.796361   \n",
       "max    7720.000000   97.413830    0.878899  488.837000    0.904748   \n",
       "\n",
       "           Ransum       Kelas  \n",
       "count  500.000000  500.000000  \n",
       "mean     2.150915    1.502000  \n",
       "std      0.249767    0.500497  \n",
       "min      1.440796    1.000000  \n",
       "25%      1.983939    1.000000  \n",
       "50%      2.193599    2.000000  \n",
       "75%      2.381612    2.000000  \n",
       "max      2.464809    2.000000  "
      ]
     },
     "execution_count": 41,
     "metadata": {},
     "output_type": "execute_result"
    }
   ],
   "source": [
    "df.describe()"
   ]
  },
  {
   "cell_type": "markdown",
   "metadata": {},
   "source": [
    "Dari hasil tersebut sudah dapat terlihat beberapa statistik data seperti mean, standar deviasi, nilai minimum, nilai maksimum, dan kuartil.\n",
    "\n",
    "Berikutnya akan dilihat statistik masing-masing kolom atribut mulai dari kolom \"Daerah\" hingga kolom \"Ransum\"."
   ]
  },
  {
   "cell_type": "code",
   "execution_count": 42,
   "metadata": {},
   "outputs": [],
   "source": [
    "def descriptive_statistics(df):\n",
    "    print(\"Mean:\", df.mean())\n",
    "    print(\"Median:\", df.median())\n",
    "    print(\"Modus:\", df.mode(\"index\")[0])\n",
    "    print(\"Standar Deviasi:\", df.std())\n",
    "    print(\"Variansi:\", df.var())\n",
    "    print(\"Range:\", df.max()-df.min())\n",
    "    print(\"Nilai Minimum:\", df.min())\n",
    "    print(\"Nilai Maksimum:\", df.max())\n",
    "    print(\"Kuartil pertama:\", df.quantile(0.25))\n",
    "    print(\"Kuartil kedua:\", df.quantile(0.5))\n",
    "    print(\"Kuartil ketiga:\", df.quantile(0.75))\n",
    "    print(\"Interquartile Range:\", iqr(df))\n",
    "    print(\"Skewness:\", df.skew())\n",
    "    print(\"Kurtosis:\", df.kurtosis())"
   ]
  },
  {
   "cell_type": "markdown",
   "metadata": {},
   "source": [
    "### Daerah"
   ]
  },
  {
   "cell_type": "markdown",
   "metadata": {},
   "source": [
    "Deskripsi Statistika untuk Kolom Daerah"
   ]
  },
  {
   "cell_type": "code",
   "execution_count": 43,
   "metadata": {},
   "outputs": [
    {
     "name": "stdout",
     "output_type": "stream",
     "text": [
      "Mean: 4801.246\n",
      "Median: 4735.0\n",
      "Modus: 3992\n",
      "Standar Deviasi: 986.3954914816018\n",
      "Variansi: 972976.0656152307\n",
      "Range: 4931\n",
      "Nilai Minimum: 2522\n",
      "Nilai Maksimum: 7453\n",
      "Kuartil pertama: 4042.75\n",
      "Kuartil kedua: 4735.0\n",
      "Kuartil ketiga: 5495.5\n",
      "Interquartile Range: 1452.75\n",
      "Skewness: 0.23814408738280812\n",
      "Kurtosis: -0.4346305340273977\n"
     ]
    }
   ],
   "source": [
    "descriptive_statistics(df[\"Daerah\"])"
   ]
  },
  {
   "cell_type": "markdown",
   "metadata": {},
   "source": [
    "### SumbuUtama"
   ]
  },
  {
   "cell_type": "markdown",
   "metadata": {},
   "source": [
    "Deskripsi Statistika untuk Kolom SumbuUtama"
   ]
  },
  {
   "cell_type": "code",
   "execution_count": 44,
   "metadata": {
    "scrolled": true
   },
   "outputs": [
    {
     "name": "stdout",
     "output_type": "stream",
     "text": [
      "Mean: 116.04517136778003\n",
      "Median: 115.40513994999999\n",
      "Modus: 74.13311404\n",
      "Standar Deviasi: 18.28262595755936\n",
      "Variansi: 334.25441190402336\n",
      "Range: 153.79546865999998\n",
      "Nilai Minimum: 74.13311404\n",
      "Nilai Maksimum: 227.9285827\n",
      "Kuartil pertama: 104.11609817499999\n",
      "Kuartil kedua: 115.40513994999999\n",
      "Kuartil ketiga: 129.046792025\n",
      "Interquartile Range: 24.93069385000001\n",
      "Skewness: 0.7615287378076631\n",
      "Kurtosis: 4.330533548436968\n"
     ]
    }
   ],
   "source": [
    "descriptive_statistics(df[\"SumbuUtama\"])"
   ]
  },
  {
   "cell_type": "markdown",
   "metadata": {},
   "source": [
    "### SumbuKecil"
   ]
  },
  {
   "cell_type": "markdown",
   "metadata": {},
   "source": [
    "Deskripsi Statistika untuk Kolom SumbuKecil"
   ]
  },
  {
   "cell_type": "code",
   "execution_count": 45,
   "metadata": {},
   "outputs": [
    {
     "name": "stdout",
     "output_type": "stream",
     "text": [
      "Mean: 53.71524598896002\n",
      "Median: 53.731198774999996\n",
      "Modus: 39.90651744\n",
      "Standar Deviasi: 4.071074752475035\n",
      "Variansi: 16.573649640239662\n",
      "Range: 29.071182429999993\n",
      "Nilai Minimum: 39.90651744\n",
      "Nilai Maksimum: 68.97769987\n",
      "Kuartil pertama: 51.1935763325\n",
      "Kuartil kedua: 53.731198774999996\n",
      "Kuartil ketiga: 56.3251579825\n",
      "Interquartile Range: 5.131581650000001\n",
      "Skewness: -0.010828051555611359\n",
      "Kurtosis: 0.47556845043813656\n"
     ]
    }
   ],
   "source": [
    "descriptive_statistics(df[\"SumbuKecil\"])"
   ]
  },
  {
   "cell_type": "markdown",
   "metadata": {},
   "source": [
    "### Keunikan"
   ]
  },
  {
   "cell_type": "markdown",
   "metadata": {},
   "source": [
    "Deskripsi Statistika untuk Kolom Keunikan"
   ]
  },
  {
   "cell_type": "code",
   "execution_count": 46,
   "metadata": {},
   "outputs": [
    {
     "name": "stdout",
     "output_type": "stream",
     "text": [
      "Mean: 0.878763914340001\n",
      "Median: 0.8900454185\n",
      "Modus: 0.7199162259999999\n",
      "Standar Deviasi: 0.03658590550477702\n",
      "Variansi: 0.0013385284816044736\n",
      "Range: 0.19408517999999997\n",
      "Nilai Minimum: 0.7199162259999999\n",
      "Nilai Maksimum: 0.9140014059999999\n",
      "Kuartil pertama: 0.8636757527500001\n",
      "Kuartil kedua: 0.8900454185\n",
      "Kuartil ketiga: 0.907577917\n",
      "Interquartile Range: 0.04390216424999993\n",
      "Skewness: -1.6234718222806501\n",
      "Kurtosis: 2.917255925694389\n"
     ]
    }
   ],
   "source": [
    "descriptive_statistics(df[\"Keunikan\"])"
   ]
  },
  {
   "cell_type": "markdown",
   "metadata": {},
   "source": [
    "### AreaBulatan"
   ]
  },
  {
   "cell_type": "markdown",
   "metadata": {},
   "source": [
    "Deskripsi Statistika untuk Kolom AreaBulatan"
   ]
  },
  {
   "cell_type": "code",
   "execution_count": 47,
   "metadata": {},
   "outputs": [
    {
     "name": "stdout",
     "output_type": "stream",
     "text": [
      "Mean: 4937.048\n",
      "Median: 4857.0\n",
      "Modus: 3802\n",
      "Standar Deviasi: 1011.6962549701573\n",
      "Variansi: 1023529.3123206415\n",
      "Range: 5141\n",
      "Nilai Minimum: 2579\n",
      "Nilai Maksimum: 7720\n",
      "Kuartil pertama: 4170.25\n",
      "Kuartil kedua: 4857.0\n",
      "Kuartil ketiga: 5654.25\n",
      "Interquartile Range: 1484.0\n",
      "Skewness: 0.2575600053152032\n",
      "Kurtosis: -0.40968492037366033\n"
     ]
    }
   ],
   "source": [
    "descriptive_statistics(df[\"AreaBulatan\"])"
   ]
  },
  {
   "cell_type": "markdown",
   "metadata": {},
   "source": [
    "### Diameter"
   ]
  },
  {
   "cell_type": "markdown",
   "metadata": {},
   "source": [
    "Deskripsi Statistika untuk Kolom Diameter"
   ]
  },
  {
   "cell_type": "code",
   "execution_count": 48,
   "metadata": {},
   "outputs": [
    {
     "name": "stdout",
     "output_type": "stream",
     "text": [
      "Mean: 77.77115780832005\n",
      "Median: 77.64527658\n",
      "Modus: 71.29356396\n",
      "Standar Deviasi: 8.056867291849715\n",
      "Variansi: 64.91311055847777\n",
      "Range: 40.747172240000005\n",
      "Nilai Minimum: 56.66665803\n",
      "Nilai Maksimum: 97.41383027\n",
      "Kuartil pertama: 71.74530754749999\n",
      "Kuartil kedua: 77.64527658\n",
      "Kuartil ketiga: 83.6485975675\n",
      "Interquartile Range: 11.903290020000014\n",
      "Skewness: 0.002724966865193717\n",
      "Kurtosis: -0.4664545130312141\n"
     ]
    }
   ],
   "source": [
    "descriptive_statistics(df[\"Diameter\"])"
   ]
  },
  {
   "cell_type": "markdown",
   "metadata": {},
   "source": [
    "### KadarAir"
   ]
  },
  {
   "cell_type": "markdown",
   "metadata": {},
   "source": [
    "Deskripsi Statistika untuk Kolom KadarAir"
   ]
  },
  {
   "cell_type": "code",
   "execution_count": 49,
   "metadata": {},
   "outputs": [
    {
     "name": "stdout",
     "output_type": "stream",
     "text": [
      "Mean: 0.6483716718980002\n",
      "Median: 0.626116699\n",
      "Modus: 0.735849057\n",
      "Standar Deviasi: 0.0943670980937953\n",
      "Variansi: 0.008905149202643984\n",
      "Range: 0.46897193099999995\n",
      "Nilai Minimum: 0.409927152\n",
      "Nilai Maksimum: 0.878899083\n",
      "Kuartil pertama: 0.57263245725\n",
      "Kuartil kedua: 0.626116699\n",
      "Kuartil ketiga: 0.7266333445000001\n",
      "Interquartile Range: 0.15400088725000005\n",
      "Skewness: 0.49366131797330265\n",
      "Kurtosis: -0.7403261705867821\n"
     ]
    }
   ],
   "source": [
    "descriptive_statistics(df[\"KadarAir\"])"
   ]
  },
  {
   "cell_type": "markdown",
   "metadata": {},
   "source": [
    "### Keliling"
   ]
  },
  {
   "cell_type": "markdown",
   "metadata": {},
   "source": [
    "Deskripsi Statistika untuk Kolom Keliling"
   ]
  },
  {
   "cell_type": "code",
   "execution_count": 50,
   "metadata": {},
   "outputs": [
    {
     "name": "stdout",
     "output_type": "stream",
     "text": [
      "Mean: 281.479722\n",
      "Median: 280.04549999999995\n",
      "Modus: 197.015\n",
      "Standar Deviasi: 37.335401715143995\n",
      "Variansi: 1393.9322212311772\n",
      "Range: 291.822\n",
      "Nilai Minimum: 197.015\n",
      "Nilai Maksimum: 488.837\n",
      "Kuartil pertama: 255.88299999999998\n",
      "Kuartil kedua: 280.04549999999995\n",
      "Kuartil ketiga: 306.0625\n",
      "Interquartile Range: 50.17950000000002\n",
      "Skewness: 0.7336269072005543\n",
      "Kurtosis: 2.272684731245571\n"
     ]
    }
   ],
   "source": [
    "descriptive_statistics(df[\"Keliling\"])"
   ]
  },
  {
   "cell_type": "markdown",
   "metadata": {},
   "source": [
    "### Bulatan"
   ]
  },
  {
   "cell_type": "markdown",
   "metadata": {},
   "source": [
    "Deskripsi Statistika untuk Kolom Bulatan"
   ]
  },
  {
   "cell_type": "code",
   "execution_count": 51,
   "metadata": {},
   "outputs": [
    {
     "name": "stdout",
     "output_type": "stream",
     "text": [
      "Mean: 0.7617374363080005\n",
      "Median: 0.7612884395\n",
      "Modus: 0.174590178\n",
      "Standar Deviasi: 0.0617024607867326\n",
      "Variansi: 0.0038071936671382743\n",
      "Range: 0.7301581349999999\n",
      "Nilai Minimum: 0.174590178\n",
      "Nilai Maksimum: 0.9047483129999999\n",
      "Kuartil pertama: 0.731990728\n",
      "Kuartil kedua: 0.7612884395\n",
      "Kuartil ketiga: 0.79636096975\n",
      "Interquartile Range: 0.06437024175000006\n",
      "Skewness: -3.5992367663616407\n",
      "Kurtosis: 29.97509590463005\n"
     ]
    }
   ],
   "source": [
    "descriptive_statistics(df[\"Bulatan\"])"
   ]
  },
  {
   "cell_type": "markdown",
   "metadata": {},
   "source": [
    "### Ransum"
   ]
  },
  {
   "cell_type": "markdown",
   "metadata": {},
   "source": [
    "Deskripsi Statistika untuk Kolom Ransum"
   ]
  },
  {
   "cell_type": "code",
   "execution_count": 52,
   "metadata": {},
   "outputs": [
    {
     "name": "stdout",
     "output_type": "stream",
     "text": [
      "Mean: 2.150915331084002\n",
      "Median: 2.1935990365\n",
      "Modus: 1.440795615\n",
      "Standar Deviasi: 0.24976688927065827\n",
      "Variansi: 0.06238349897594127\n",
      "Range: 1.0240129659999997\n",
      "Nilai Minimum: 1.440795615\n",
      "Nilai Maksimum: 2.4648085809999998\n",
      "Kuartil pertama: 1.98393879075\n",
      "Kuartil kedua: 2.1935990365\n",
      "Kuartil ketiga: 2.38161221825\n",
      "Interquartile Range: 0.3976734275\n",
      "Skewness: -0.6581880925333653\n",
      "Kurtosis: -0.4286557930626156\n"
     ]
    }
   ],
   "source": [
    "descriptive_statistics(df[\"Ransum\"])"
   ]
  },
  {
   "cell_type": "markdown",
   "metadata": {},
   "source": [
    "# Nomor 3"
   ]
  },
  {
   "cell_type": "markdown",
   "metadata": {},
   "source": [
    "Menentukan setiap kolom numerik berdistribusi normal atau tidak. Gunakan normality test\n",
    "yang dikaitkan dengan histogram plot."
   ]
  },
  {
   "cell_type": "markdown",
   "metadata": {},
   "source": [
    "Normality test dilakukan dengan menggunakan fungsi ```normaltest``` dari library scipy. Implementasi normality test jenis ini didasarkan pada **D'Agostino-Pearson Test**. \n",
    "\n",
    "Tes D'Agostino-Pearson, atau disebut juga Tes D'Agostino $K^2$, dilakukan dengan melihat nilai skewness dan kurtosis."
   ]
  },
  {
   "cell_type": "code",
   "execution_count": 53,
   "metadata": {},
   "outputs": [],
   "source": [
    "def normality_test(df):\n",
    "    k2, p = normaltest(df)\n",
    "    print(\"P-value yang didapat sebesar\", p)\n",
    "    if (p < 0.05):\n",
    "        print(\"Hipotesis nol ditolak. Data tidak terdistribusi normal.\")\n",
    "    else:\n",
    "        print(\"Hipotesis nol diterima. Data terdistribusi normal.\")"
   ]
  },
  {
   "cell_type": "code",
   "execution_count": 54,
   "metadata": {},
   "outputs": [
    {
     "name": "stdout",
     "output_type": "stream",
     "text": [
      "P-value yang didapat sebesar 0.004386271773193838\n",
      "Hipotesis nol ditolak. Data tidak terdistribusi normal.\n"
     ]
    }
   ],
   "source": [
    "normality_test(df[\"Daerah\"])"
   ]
  },
  {
   "cell_type": "code",
   "execution_count": null,
   "metadata": {},
   "outputs": [],
   "source": []
  }
 ],
 "metadata": {
  "kernelspec": {
   "display_name": "Python 3",
   "language": "python",
   "name": "python3"
  },
  "language_info": {
   "codemirror_mode": {
    "name": "ipython",
    "version": 3
   },
   "file_extension": ".py",
   "mimetype": "text/x-python",
   "name": "python",
   "nbconvert_exporter": "python",
   "pygments_lexer": "ipython3",
   "version": "3.7.6"
  }
 },
 "nbformat": 4,
 "nbformat_minor": 4
}
